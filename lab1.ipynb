{
  "nbformat": 4,
  "nbformat_minor": 0,
  "metadata": {
    "colab": {
      "name": "lab1",
      "provenance": [],
      "collapsed_sections": [
        "DTEwGo3yZE6f",
        "SivBd_9YZuV-",
        "CtiB1pfObvd8",
        "XaLt4GQ6dS-i",
        "fvquPwjleMTi",
        "ueQpZQo6fpHk",
        "E8lsWkQje8vt",
        "k-yn9DNSfTB9",
        "R-7N_Ul0GmF5",
        "o3yq8spRgfMP",
        "wggRcnnRg4Tw",
        "CzrD-l3zMZdz",
        "FEaFdq_IVYLd",
        "8gHDbqVEWNEV",
        "vbc47mTSYHZi",
        "d713K894cN2p",
        "kBpZy4kMdxzf",
        "dPo_XGLoe0Ss",
        "_cxCNC1kgKV3",
        "W4NYZJbrg9eF"
      ],
      "authorship_tag": "ABX9TyN+xjhjdYLTr8n2d6loxjv6",
      "include_colab_link": true
    },
    "kernelspec": {
      "name": "python3",
      "display_name": "Python 3"
    },
    "language_info": {
      "name": "python"
    }
  },
  "cells": [
    {
      "cell_type": "markdown",
      "metadata": {
        "id": "view-in-github",
        "colab_type": "text"
      },
      "source": [
        "<a href=\"https://colab.research.google.com/github/miacastanedago/MetNumUN2022II/blob/main/lab1.ipynb\" target=\"_parent\"><img src=\"https://colab.research.google.com/assets/colab-badge.svg\" alt=\"Open In Colab\"/></a>"
      ]
    },
    {
      "cell_type": "markdown",
      "source": [
        "## **1 sumas**"
      ],
      "metadata": {
        "id": "DTEwGo3yZE6f"
      }
    },
    {
      "cell_type": "code",
      "source": [
        "#1\n",
        "5+1"
      ],
      "metadata": {
        "colab": {
          "base_uri": "https://localhost:8080/"
        },
        "id": "GPGtpU2hZREJ",
        "outputId": "0e1b7acf-6562-4ef4-e5db-ed01dd7784dd"
      },
      "execution_count": null,
      "outputs": [
        {
          "output_type": "execute_result",
          "data": {
            "text/plain": [
              "6"
            ]
          },
          "metadata": {},
          "execution_count": 2
        }
      ]
    },
    {
      "cell_type": "code",
      "source": [
        "#2\n",
        "54+21"
      ],
      "metadata": {
        "colab": {
          "base_uri": "https://localhost:8080/"
        },
        "id": "QGs2H62KZVX-",
        "outputId": "1b7b7a80-0df6-445b-c991-e78ef17a8c87"
      },
      "execution_count": null,
      "outputs": [
        {
          "output_type": "execute_result",
          "data": {
            "text/plain": [
              "75"
            ]
          },
          "metadata": {},
          "execution_count": 3
        }
      ]
    },
    {
      "cell_type": "code",
      "source": [
        "#3\n",
        "95+21"
      ],
      "metadata": {
        "colab": {
          "base_uri": "https://localhost:8080/"
        },
        "id": "NMQKrPXgZfOn",
        "outputId": "23c72468-ed91-44c4-87be-5d4a991cf35c"
      },
      "execution_count": null,
      "outputs": [
        {
          "output_type": "execute_result",
          "data": {
            "text/plain": [
              "116"
            ]
          },
          "metadata": {},
          "execution_count": 4
        }
      ]
    },
    {
      "cell_type": "code",
      "source": [
        "#4\n",
        "4+2"
      ],
      "metadata": {
        "colab": {
          "base_uri": "https://localhost:8080/"
        },
        "id": "l5ogMdFbZfLW",
        "outputId": "7a64d7fe-dee6-45c0-fd61-02d74ca2eef7"
      },
      "execution_count": null,
      "outputs": [
        {
          "output_type": "execute_result",
          "data": {
            "text/plain": [
              "6"
            ]
          },
          "metadata": {},
          "execution_count": 5
        }
      ]
    },
    {
      "cell_type": "code",
      "source": [
        "#5\n",
        "88+23"
      ],
      "metadata": {
        "colab": {
          "base_uri": "https://localhost:8080/"
        },
        "id": "oqroZVOtZfIS",
        "outputId": "8d078d1c-c609-470c-f682-ac98c9485f7b"
      },
      "execution_count": null,
      "outputs": [
        {
          "output_type": "execute_result",
          "data": {
            "text/plain": [
              "111"
            ]
          },
          "metadata": {},
          "execution_count": 6
        }
      ]
    },
    {
      "cell_type": "code",
      "source": [
        "#6\n",
        "64+5"
      ],
      "metadata": {
        "colab": {
          "base_uri": "https://localhost:8080/"
        },
        "id": "3H2Cj-V9ZfFM",
        "outputId": "e9474b4d-2c31-46b0-bf9c-3e610112a37c"
      },
      "execution_count": null,
      "outputs": [
        {
          "output_type": "execute_result",
          "data": {
            "text/plain": [
              "69"
            ]
          },
          "metadata": {},
          "execution_count": 7
        }
      ]
    },
    {
      "cell_type": "code",
      "source": [
        "#7\n",
        "75+4"
      ],
      "metadata": {
        "colab": {
          "base_uri": "https://localhost:8080/"
        },
        "id": "Yx91YOajZfCI",
        "outputId": "eb12a048-a819-4314-8ce5-937875feebb0"
      },
      "execution_count": null,
      "outputs": [
        {
          "output_type": "execute_result",
          "data": {
            "text/plain": [
              "79"
            ]
          },
          "metadata": {},
          "execution_count": 12
        }
      ]
    },
    {
      "cell_type": "code",
      "source": [
        "#8\n",
        "54+21"
      ],
      "metadata": {
        "colab": {
          "base_uri": "https://localhost:8080/"
        },
        "id": "t2dGpxgeZe_B",
        "outputId": "bf16ddd3-b283-4c53-870a-18db377c3486"
      },
      "execution_count": null,
      "outputs": [
        {
          "output_type": "execute_result",
          "data": {
            "text/plain": [
              "75"
            ]
          },
          "metadata": {},
          "execution_count": 8
        }
      ]
    },
    {
      "cell_type": "code",
      "source": [
        "#9\n",
        "75+1"
      ],
      "metadata": {
        "colab": {
          "base_uri": "https://localhost:8080/"
        },
        "id": "C9oGTXoKZe8G",
        "outputId": "4773e16a-afe5-47c4-de46-c7d30ffaa69a"
      },
      "execution_count": null,
      "outputs": [
        {
          "output_type": "execute_result",
          "data": {
            "text/plain": [
              "76"
            ]
          },
          "metadata": {},
          "execution_count": 10
        }
      ]
    },
    {
      "cell_type": "code",
      "source": [
        "#10\n",
        "7+84"
      ],
      "metadata": {
        "colab": {
          "base_uri": "https://localhost:8080/"
        },
        "id": "VaRwCh-OZe5I",
        "outputId": "6d3ab197-8c1f-403f-da3b-fce42e4edad1"
      },
      "execution_count": null,
      "outputs": [
        {
          "output_type": "execute_result",
          "data": {
            "text/plain": [
              "91"
            ]
          },
          "metadata": {},
          "execution_count": 11
        }
      ]
    },
    {
      "cell_type": "markdown",
      "source": [
        "## **2 sin poder imprimir**"
      ],
      "metadata": {
        "id": "SivBd_9YZuV-"
      }
    },
    {
      "cell_type": "code",
      "source": [
        "#1\n",
        "j = 215"
      ],
      "metadata": {
        "id": "L2z4b1_7bm-U"
      },
      "execution_count": null,
      "outputs": []
    },
    {
      "cell_type": "code",
      "source": [
        "#2\n",
        "a = 5"
      ],
      "metadata": {
        "id": "Y73Q-BNaZe2G"
      },
      "execution_count": null,
      "outputs": []
    },
    {
      "cell_type": "code",
      "source": [
        "#3\n",
        "b = 8"
      ],
      "metadata": {
        "id": "et_WhO96Zeyz"
      },
      "execution_count": null,
      "outputs": []
    },
    {
      "cell_type": "code",
      "source": [
        "#4\n",
        "c = 10"
      ],
      "metadata": {
        "id": "O87GV5ELZevl"
      },
      "execution_count": null,
      "outputs": []
    },
    {
      "cell_type": "code",
      "source": [
        "#5\n",
        "d = 85"
      ],
      "metadata": {
        "id": "Z2qSKzUyZerf"
      },
      "execution_count": null,
      "outputs": []
    },
    {
      "cell_type": "code",
      "source": [
        "#6\n",
        "e = 86"
      ],
      "metadata": {
        "id": "1sSPiKh3Zelx"
      },
      "execution_count": null,
      "outputs": []
    },
    {
      "cell_type": "code",
      "source": [
        "#7\n",
        "f = 91"
      ],
      "metadata": {
        "id": "T2D_ZwVXZeRZ"
      },
      "execution_count": null,
      "outputs": []
    },
    {
      "cell_type": "code",
      "source": [
        "#8\n",
        "g = 5"
      ],
      "metadata": {
        "id": "yBDsQ_28bLZR"
      },
      "execution_count": null,
      "outputs": []
    },
    {
      "cell_type": "code",
      "source": [
        "#9\n",
        "h = 546"
      ],
      "metadata": {
        "id": "m8uai64zbLDi"
      },
      "execution_count": null,
      "outputs": []
    },
    {
      "cell_type": "code",
      "source": [
        "#10\n",
        "i = 845"
      ],
      "metadata": {
        "id": "EoorVwVJbK2L"
      },
      "execution_count": null,
      "outputs": []
    },
    {
      "cell_type": "markdown",
      "source": [
        "## **3 con imprimir**"
      ],
      "metadata": {
        "id": "CtiB1pfObvd8"
      }
    },
    {
      "cell_type": "code",
      "source": [
        "#1\n",
        "print(4 + 25)\n",
        "83 + 35"
      ],
      "metadata": {
        "colab": {
          "base_uri": "https://localhost:8080/"
        },
        "id": "zgo1Qaq7bvAp",
        "outputId": "89aaea81-f971-4dac-d409-dba10c154f47"
      },
      "execution_count": null,
      "outputs": [
        {
          "output_type": "stream",
          "name": "stdout",
          "text": [
            "29\n"
          ]
        },
        {
          "output_type": "execute_result",
          "data": {
            "text/plain": [
              "118"
            ]
          },
          "metadata": {},
          "execution_count": 23
        }
      ]
    },
    {
      "cell_type": "code",
      "source": [
        "#2\n",
        "print(94 +6)\n",
        "5 + 6"
      ],
      "metadata": {
        "colab": {
          "base_uri": "https://localhost:8080/"
        },
        "id": "QE_nG8zHbKrW",
        "outputId": "2f9a1829-3fef-4247-ac5f-3c222c54439e"
      },
      "execution_count": null,
      "outputs": [
        {
          "output_type": "stream",
          "name": "stdout",
          "text": [
            "100\n"
          ]
        },
        {
          "output_type": "execute_result",
          "data": {
            "text/plain": [
              "11"
            ]
          },
          "metadata": {},
          "execution_count": 24
        }
      ]
    },
    {
      "cell_type": "code",
      "source": [
        "#3\n",
        "print(45 + 5)\n",
        "8 + 2"
      ],
      "metadata": {
        "colab": {
          "base_uri": "https://localhost:8080/"
        },
        "id": "Jz4NUFMRcMuw",
        "outputId": "9c9b5b60-3060-4fec-b451-f074618df77c"
      },
      "execution_count": null,
      "outputs": [
        {
          "output_type": "stream",
          "name": "stdout",
          "text": [
            "50\n"
          ]
        },
        {
          "output_type": "execute_result",
          "data": {
            "text/plain": [
              "10"
            ]
          },
          "metadata": {},
          "execution_count": 32
        }
      ]
    },
    {
      "cell_type": "code",
      "source": [
        "#4\n",
        "print(4 + 25)\n",
        "83 + 35"
      ],
      "metadata": {
        "colab": {
          "base_uri": "https://localhost:8080/"
        },
        "id": "_vlFvn2OcMm4",
        "outputId": "a264b9a0-03d8-4a31-c8f6-afeb0daffc69"
      },
      "execution_count": null,
      "outputs": [
        {
          "output_type": "stream",
          "name": "stdout",
          "text": [
            "29\n"
          ]
        },
        {
          "output_type": "execute_result",
          "data": {
            "text/plain": [
              "118"
            ]
          },
          "metadata": {},
          "execution_count": 31
        }
      ]
    },
    {
      "cell_type": "code",
      "source": [
        "#5\n",
        "print(54 + 5)\n",
        "83 + 86"
      ],
      "metadata": {
        "colab": {
          "base_uri": "https://localhost:8080/"
        },
        "id": "SzWl55LFcMey",
        "outputId": "8880db4b-f748-40ee-9188-966702c05813"
      },
      "execution_count": null,
      "outputs": [
        {
          "output_type": "stream",
          "name": "stdout",
          "text": [
            "59\n"
          ]
        },
        {
          "output_type": "execute_result",
          "data": {
            "text/plain": [
              "169"
            ]
          },
          "metadata": {},
          "execution_count": 30
        }
      ]
    },
    {
      "cell_type": "code",
      "source": [
        "#6\n",
        "print(5 +855)\n",
        "14 + 2"
      ],
      "metadata": {
        "colab": {
          "base_uri": "https://localhost:8080/"
        },
        "id": "pd_DCFG2cMV6",
        "outputId": "106a3146-b929-47d4-890c-3d52552b4c5f"
      },
      "execution_count": null,
      "outputs": [
        {
          "output_type": "stream",
          "name": "stdout",
          "text": [
            "860\n"
          ]
        },
        {
          "output_type": "execute_result",
          "data": {
            "text/plain": [
              "16"
            ]
          },
          "metadata": {},
          "execution_count": 29
        }
      ]
    },
    {
      "cell_type": "code",
      "source": [
        "#7\n",
        "print(54 + 8)\n",
        "15 + 2"
      ],
      "metadata": {
        "colab": {
          "base_uri": "https://localhost:8080/"
        },
        "id": "DLaVMAOQcMOJ",
        "outputId": "82dddd3f-04d5-4550-f1d6-c9d8f1f6f16c"
      },
      "execution_count": null,
      "outputs": [
        {
          "output_type": "stream",
          "name": "stdout",
          "text": [
            "62\n"
          ]
        },
        {
          "output_type": "execute_result",
          "data": {
            "text/plain": [
              "17"
            ]
          },
          "metadata": {},
          "execution_count": 28
        }
      ]
    },
    {
      "cell_type": "code",
      "source": [
        "#8\n",
        "print(85 + 50)\n",
        "615 + 40"
      ],
      "metadata": {
        "colab": {
          "base_uri": "https://localhost:8080/"
        },
        "id": "PUvMeh3IcMFw",
        "outputId": "ec1ab19d-4fc0-422b-d9df-c29b6407017a"
      },
      "execution_count": null,
      "outputs": [
        {
          "output_type": "stream",
          "name": "stdout",
          "text": [
            "135\n"
          ]
        },
        {
          "output_type": "execute_result",
          "data": {
            "text/plain": [
              "655"
            ]
          },
          "metadata": {},
          "execution_count": 27
        }
      ]
    },
    {
      "cell_type": "code",
      "source": [
        "#9\n",
        "print(5 + 85)\n",
        "30 + 64"
      ],
      "metadata": {
        "colab": {
          "base_uri": "https://localhost:8080/"
        },
        "id": "ylpk2vykcL8Y",
        "outputId": "abdec13b-569d-47c4-f3f0-05b58efead5e"
      },
      "execution_count": null,
      "outputs": [
        {
          "output_type": "stream",
          "name": "stdout",
          "text": [
            "90\n"
          ]
        },
        {
          "output_type": "execute_result",
          "data": {
            "text/plain": [
              "94"
            ]
          },
          "metadata": {},
          "execution_count": 26
        }
      ]
    },
    {
      "cell_type": "code",
      "source": [
        "#10\n",
        "print(50 + 25)\n",
        "36 + 85"
      ],
      "metadata": {
        "colab": {
          "base_uri": "https://localhost:8080/"
        },
        "id": "2ExO_izucLwc",
        "outputId": "f7fdd810-d4a9-4203-b4f9-9e93c5033b4a"
      },
      "execution_count": null,
      "outputs": [
        {
          "output_type": "stream",
          "name": "stdout",
          "text": [
            "75\n"
          ]
        },
        {
          "output_type": "execute_result",
          "data": {
            "text/plain": [
              "121"
            ]
          },
          "metadata": {},
          "execution_count": 25
        }
      ]
    },
    {
      "cell_type": "markdown",
      "source": [
        "## **4 ejecucioon de celda**"
      ],
      "metadata": {
        "id": "XaLt4GQ6dS-i"
      }
    },
    {
      "cell_type": "code",
      "source": [
        "#Take some time to run something\n",
        "c = 0\n",
        "for i in range(10000000):\n",
        "    c = c + i\n",
        "c"
      ],
      "metadata": {
        "id": "xzE3-GEDeKg1",
        "colab": {
          "base_uri": "https://localhost:8080/"
        },
        "outputId": "cab9fd5d-943f-4179-b950-825f0ea0eaa6"
      },
      "execution_count": null,
      "outputs": [
        {
          "output_type": "execute_result",
          "data": {
            "text/plain": [
              "49999995000000"
            ]
          },
          "metadata": {},
          "execution_count": 3
        }
      ]
    },
    {
      "cell_type": "code",
      "source": [
        "#Take some time to run something\n",
        "a = 0\n",
        "for i in range(20000000):\n",
        "    a = a + i\n",
        "a"
      ],
      "metadata": {
        "id": "lm3gXfZKG-mD"
      },
      "execution_count": null,
      "outputs": []
    },
    {
      "cell_type": "code",
      "source": [
        "#Take some time to run something\n",
        "b = 0\n",
        "for i in range(3000000):\n",
        "    b = b + i\n",
        "b"
      ],
      "metadata": {
        "id": "I8t0rnfhG-ea"
      },
      "execution_count": null,
      "outputs": []
    },
    {
      "cell_type": "code",
      "source": [
        "#Take some time to run something\n",
        "d = 0\n",
        "for i in range(7000000):\n",
        "    d = d + i\n",
        "d"
      ],
      "metadata": {
        "id": "85bKvxe6G-Xe"
      },
      "execution_count": null,
      "outputs": []
    },
    {
      "cell_type": "code",
      "source": [
        "#Take some time to run something\n",
        "e = 0\n",
        "for i in range(6000000):\n",
        "    e = e + i\n",
        "e"
      ],
      "metadata": {
        "id": "TdaAuutEG-P2"
      },
      "execution_count": null,
      "outputs": []
    },
    {
      "cell_type": "code",
      "source": [
        "#Take some time to run something\n",
        "f = 0\n",
        "for i in range(50000000):\n",
        "    f = f + i\n",
        "f"
      ],
      "metadata": {
        "id": "30oZeJwhG-IY"
      },
      "execution_count": null,
      "outputs": []
    },
    {
      "cell_type": "code",
      "source": [
        "#Take some time to run something\n",
        "g = 0\n",
        "for i in range(5000000):\n",
        "    g = g + i\n",
        "g"
      ],
      "metadata": {
        "id": "b9-WTOinG-BE"
      },
      "execution_count": null,
      "outputs": []
    },
    {
      "cell_type": "code",
      "source": [
        "#Take some time to run something\n",
        "h = 0\n",
        "for i in range(400000):\n",
        "    h = h + i\n",
        "h"
      ],
      "metadata": {
        "id": "MKp1LMDhG958"
      },
      "execution_count": null,
      "outputs": []
    },
    {
      "cell_type": "code",
      "source": [
        "#Take some time to run something\n",
        "i = 0\n",
        "for i in range(3000000):\n",
        "    i = i + i\n",
        "i"
      ],
      "metadata": {
        "id": "fWKQHC-YG9x3"
      },
      "execution_count": null,
      "outputs": []
    },
    {
      "cell_type": "code",
      "source": [
        "#Take some time to run something\n",
        "j = 0\n",
        "for i in range(45000000):\n",
        "    j = j + i\n",
        "j"
      ],
      "metadata": {
        "id": "YxmYdj4mJnHq"
      },
      "execution_count": null,
      "outputs": []
    },
    {
      "cell_type": "markdown",
      "source": [
        "## **5 ayuda**"
      ],
      "metadata": {
        "id": "fvquPwjleMTi"
      }
    },
    {
      "cell_type": "code",
      "source": [
        "np.random.normal?"
      ],
      "metadata": {
        "id": "No1KfLc9e423"
      },
      "execution_count": null,
      "outputs": []
    },
    {
      "cell_type": "code",
      "source": [
        "abs?"
      ],
      "metadata": {
        "id": "aAkgXj7eHy7O"
      },
      "execution_count": null,
      "outputs": []
    },
    {
      "cell_type": "code",
      "source": [
        "np.bool_?"
      ],
      "metadata": {
        "id": "-Z_kB49sHyzN"
      },
      "execution_count": null,
      "outputs": []
    },
    {
      "cell_type": "code",
      "source": [
        "class?"
      ],
      "metadata": {
        "id": "WCa7cIorHyrY"
      },
      "execution_count": null,
      "outputs": []
    },
    {
      "cell_type": "code",
      "source": [
        "delattr?"
      ],
      "metadata": {
        "id": "7zcWQreGHyj-"
      },
      "execution_count": null,
      "outputs": []
    },
    {
      "cell_type": "code",
      "source": [
        "else?"
      ],
      "metadata": {
        "id": "LbcanChPHycM"
      },
      "execution_count": null,
      "outputs": []
    },
    {
      "cell_type": "code",
      "source": [
        "elif?"
      ],
      "metadata": {
        "id": "_spx5NwpHyU0"
      },
      "execution_count": null,
      "outputs": []
    },
    {
      "cell_type": "code",
      "source": [
        "exit?"
      ],
      "metadata": {
        "id": "jZ9q4lpwHyMi"
      },
      "execution_count": null,
      "outputs": []
    },
    {
      "cell_type": "code",
      "source": [
        "if?"
      ],
      "metadata": {
        "id": "CwjO-HUaHyFg"
      },
      "execution_count": null,
      "outputs": []
    },
    {
      "cell_type": "code",
      "source": [
        "bool?"
      ],
      "metadata": {
        "id": "WwuVkiTCJyU9"
      },
      "execution_count": null,
      "outputs": []
    },
    {
      "cell_type": "markdown",
      "source": [
        "## **6 importar librrias**"
      ],
      "metadata": {
        "id": "ueQpZQo6fpHk"
      }
    },
    {
      "cell_type": "code",
      "source": [
        "import numpy as np\n"
      ],
      "metadata": {
        "id": "Ql_Ab6bNfuMG"
      },
      "execution_count": null,
      "outputs": []
    },
    {
      "cell_type": "code",
      "source": [
        "import pandas as pd\n"
      ],
      "metadata": {
        "id": "15oKcSjQJaY-"
      },
      "execution_count": null,
      "outputs": []
    },
    {
      "cell_type": "code",
      "source": [
        "import matplotlib.pyplot as plt\n"
      ],
      "metadata": {
        "id": "cGLv1x6sJaQw"
      },
      "execution_count": null,
      "outputs": []
    },
    {
      "cell_type": "code",
      "source": [
        "import SciPy as sc\n"
      ],
      "metadata": {
        "id": "PGVU461WJaIG"
      },
      "execution_count": null,
      "outputs": []
    },
    {
      "cell_type": "code",
      "source": [
        "import Bokeh as bk\n"
      ],
      "metadata": {
        "id": "LdJVzTslJaAb"
      },
      "execution_count": null,
      "outputs": []
    },
    {
      "cell_type": "code",
      "source": [
        "import Seaborn as ab\n"
      ],
      "metadata": {
        "id": "Qa5kK1JrJZ5A"
      },
      "execution_count": null,
      "outputs": []
    },
    {
      "cell_type": "code",
      "source": [
        "import Numba as nm\n"
      ],
      "metadata": {
        "id": "DIBDnvT2JZkF"
      },
      "execution_count": null,
      "outputs": []
    },
    {
      "cell_type": "code",
      "source": [
        "import Scikit-Learn as sl\n"
      ],
      "metadata": {
        "id": "3liYmoSzJZbq"
      },
      "execution_count": null,
      "outputs": []
    },
    {
      "cell_type": "code",
      "source": [
        "import TensorFlow as tf\n"
      ],
      "metadata": {
        "id": "17qld_cwJZUh"
      },
      "execution_count": null,
      "outputs": []
    },
    {
      "cell_type": "code",
      "source": [
        "import Keras as kr"
      ],
      "metadata": {
        "id": "6juLwUuyJZLI"
      },
      "execution_count": null,
      "outputs": []
    },
    {
      "cell_type": "markdown",
      "source": [
        "## **7 muestreo**"
      ],
      "metadata": {
        "id": "E8lsWkQje8vt"
      }
    },
    {
      "cell_type": "code",
      "source": [
        "a = np.random.normal(0, 1, 100)\n",
        "a"
      ],
      "metadata": {
        "colab": {
          "base_uri": "https://localhost:8080/"
        },
        "id": "Tf9MmrFofJEK",
        "outputId": "a2fb9a29-fb0a-49d3-f518-d18739ac45b5"
      },
      "execution_count": null,
      "outputs": [
        {
          "output_type": "execute_result",
          "data": {
            "text/plain": [
              "array([-0.68078095, -0.82487366, -1.26554896, -1.22228619, -0.64607824,\n",
              "       -0.75651479,  1.38947558,  1.078341  ,  1.58775703,  0.14549902,\n",
              "        0.32565448, -1.71097542, -1.01653409, -0.90763292, -1.68135992,\n",
              "       -0.91612203, -0.85251669,  0.81437369,  0.41091375,  1.14395874,\n",
              "        1.02458679, -0.50178101,  1.95488355,  0.0830379 , -0.27822744,\n",
              "        1.06619384,  1.63709498, -0.08888303,  0.81700905, -0.44619489,\n",
              "        0.20059529,  0.7697882 ,  0.70083894, -0.067976  , -1.25588528,\n",
              "       -0.07760476,  0.58154382,  2.4264245 ,  2.28873441, -0.88909552,\n",
              "       -0.21309862,  0.06694285, -1.65652579,  1.09910112,  0.82593584,\n",
              "        0.20738098, -0.75099954, -1.04249454,  0.84867028, -0.84380823,\n",
              "       -1.46720142, -1.4468043 , -1.71877219, -0.88651914,  0.06022037,\n",
              "       -0.10591904,  0.69749013,  0.00776901, -0.42380086,  0.1007248 ,\n",
              "       -1.91467126, -0.99405468, -0.20575056, -1.17446362, -0.44926887,\n",
              "       -0.71668287, -0.58398409,  1.24504742, -1.25760569, -1.30417728,\n",
              "        1.82912305,  0.81591251,  0.77544681, -0.53060328,  0.15835158,\n",
              "       -0.93486172,  0.32952154,  0.84477189,  0.14561504, -0.1939085 ,\n",
              "       -0.58286211,  0.28404366,  0.48984299,  2.03601914, -1.74548741,\n",
              "        0.27096569, -0.66858531, -0.76618377,  0.49539883,  1.16066819,\n",
              "       -0.77976425,  0.67931183, -1.30815054, -0.38875752, -0.38021854,\n",
              "        1.24340193, -0.48970824,  1.58203263, -1.6275082 , -0.69513808])"
            ]
          },
          "metadata": {},
          "execution_count": 42
        }
      ]
    },
    {
      "cell_type": "code",
      "source": [
        "b = np.random.normal(0, 1, 100)\n",
        "b"
      ],
      "metadata": {
        "id": "qrvDThWvJ69P"
      },
      "execution_count": null,
      "outputs": []
    },
    {
      "cell_type": "code",
      "source": [
        "c = np.random.normal(0, 1, 100)\n",
        "c"
      ],
      "metadata": {
        "id": "Z4TP6z2OJ60H"
      },
      "execution_count": null,
      "outputs": []
    },
    {
      "cell_type": "code",
      "source": [
        "d = np.random.normal(0, 1, 100)\n",
        "d"
      ],
      "metadata": {
        "id": "5LJ0NNf2J6sR"
      },
      "execution_count": null,
      "outputs": []
    },
    {
      "cell_type": "code",
      "source": [
        "e = np.random.normal(0, 1, 100)\n",
        "e"
      ],
      "metadata": {
        "id": "QU6UBi0tJ6j8"
      },
      "execution_count": null,
      "outputs": []
    },
    {
      "cell_type": "code",
      "source": [
        "f = np.random.normal(0, 1, 100)\n",
        "f"
      ],
      "metadata": {
        "id": "aB6iwf-vJ6cq"
      },
      "execution_count": null,
      "outputs": []
    },
    {
      "cell_type": "code",
      "source": [
        "g = np.random.normal(0, 1, 100)\n",
        "g"
      ],
      "metadata": {
        "id": "Z3ZbefYnJ6UM"
      },
      "execution_count": null,
      "outputs": []
    },
    {
      "cell_type": "code",
      "source": [
        "h = np.random.normal(0, 1, 100)\n",
        "h"
      ],
      "metadata": {
        "id": "PgEfEZMkJ6M6"
      },
      "execution_count": null,
      "outputs": []
    },
    {
      "cell_type": "code",
      "source": [
        "i = np.random.normal(0, 1, 100)\n",
        "i"
      ],
      "metadata": {
        "id": "4MUcSJlXJ6FH"
      },
      "execution_count": null,
      "outputs": []
    },
    {
      "cell_type": "code",
      "source": [
        "j = np.random.normal(0, 1, 100)\n",
        "j"
      ],
      "metadata": {
        "id": "cIliS4DFJ58O"
      },
      "execution_count": null,
      "outputs": []
    },
    {
      "cell_type": "markdown",
      "source": [
        "## **8 graficador**"
      ],
      "metadata": {
        "id": "k-yn9DNSfTB9"
      }
    },
    {
      "cell_type": "code",
      "source": [
        "plt.plot(a)"
      ],
      "metadata": {
        "colab": {
          "base_uri": "https://localhost:8080/",
          "height": 282
        },
        "id": "xN3PJhYRfbVd",
        "outputId": "53ae55ed-41ea-4d9c-96a4-62117857a485"
      },
      "execution_count": null,
      "outputs": [
        {
          "output_type": "execute_result",
          "data": {
            "text/plain": [
              "[<matplotlib.lines.Line2D at 0x7f138e270490>]"
            ]
          },
          "metadata": {},
          "execution_count": 43
        },
        {
          "output_type": "display_data",
          "data": {
            "text/plain": [
              "<Figure size 432x288 with 1 Axes>"
            ],
            "image/png": "[encoded data removed]"
          },
          "metadata": {
            "needs_background": "light"
          }
        }
      ]
    },
    {
      "cell_type": "code",
      "source": [
        "plt.plot(b)"
      ],
      "metadata": {
        "id": "0gNZgthsKXaG"
      },
      "execution_count": null,
      "outputs": []
    },
    {
      "cell_type": "code",
      "source": [
        "plt.plot(c)"
      ],
      "metadata": {
        "id": "SwSFHCqPKXPl"
      },
      "execution_count": null,
      "outputs": []
    },
    {
      "cell_type": "code",
      "source": [
        "plt.plot(d)"
      ],
      "metadata": {
        "id": "PkaX2vvOKXDa"
      },
      "execution_count": null,
      "outputs": []
    },
    {
      "cell_type": "code",
      "source": [
        "plt.plot(e)"
      ],
      "metadata": {
        "id": "9_4qESOLKW7T"
      },
      "execution_count": null,
      "outputs": []
    },
    {
      "cell_type": "code",
      "source": [
        "plt.plot(f)"
      ],
      "metadata": {
        "id": "Ws2KCOOOKWwa"
      },
      "execution_count": null,
      "outputs": []
    },
    {
      "cell_type": "code",
      "source": [
        "plt.plot(g)"
      ],
      "metadata": {
        "id": "wkefDiJMKWnk"
      },
      "execution_count": null,
      "outputs": []
    },
    {
      "cell_type": "code",
      "source": [
        "plt.plot(h)"
      ],
      "metadata": {
        "id": "ULHsWH0sKWc6"
      },
      "execution_count": null,
      "outputs": []
    },
    {
      "cell_type": "code",
      "source": [
        "plt.plot(i)"
      ],
      "metadata": {
        "id": "ooBy_LS1KWSN"
      },
      "execution_count": null,
      "outputs": []
    },
    {
      "cell_type": "code",
      "source": [
        "plt.plot(j)"
      ],
      "metadata": {
        "id": "Jipx8T3rKWKa"
      },
      "execution_count": null,
      "outputs": []
    },
    {
      "cell_type": "markdown",
      "source": [
        "## **9 varias graficador**"
      ],
      "metadata": {
        "id": "R-7N_Ul0GmF5"
      }
    },
    {
      "cell_type": "code",
      "source": [
        "X = np.random.normal(0, 1, 100)\n",
        "X2 = np.random.normal(0, 1, 100)\n",
        "\n",
        "plt.plot(X);\n",
        "plt.plot(X2);\n"
      ],
      "metadata": {
        "id": "lgIKxAyFGvC6"
      },
      "execution_count": null,
      "outputs": []
    },
    {
      "cell_type": "code",
      "source": [
        "X = np.random.normal(0, 1, 100)\n",
        "X2 = np.random.normal(0, 1, 100)\n",
        "\n",
        "plt.plot(X);\n",
        "plt.plot(X2);\n"
      ],
      "metadata": {
        "id": "Q73oaWn0K4EA"
      },
      "execution_count": null,
      "outputs": []
    },
    {
      "cell_type": "code",
      "source": [
        "X = np.random.normal(0, 1, 100)\n",
        "X2 = np.random.normal(0, 1, 100)\n",
        "\n",
        "plt.plot(X);\n",
        "plt.plot(X2);\n"
      ],
      "metadata": {
        "id": "Oa_zAjkMKvrS"
      },
      "execution_count": null,
      "outputs": []
    },
    {
      "cell_type": "code",
      "source": [
        "X = np.random.normal(0, 1, 100)\n",
        "X2 = np.random.normal(0, 1, 100)\n",
        "\n",
        "plt.plot(X);\n",
        "plt.plot(X2);\n"
      ],
      "metadata": {
        "id": "C_22vmpeKvk3"
      },
      "execution_count": null,
      "outputs": []
    },
    {
      "cell_type": "code",
      "source": [
        "X = np.random.normal(0, 1, 100)\n",
        "X2 = np.random.normal(0, 1, 100)\n",
        "\n",
        "plt.plot(X);\n",
        "plt.plot(X2);\n"
      ],
      "metadata": {
        "id": "iTAFuCdrKvcd"
      },
      "execution_count": null,
      "outputs": []
    },
    {
      "cell_type": "code",
      "source": [
        "X = np.random.normal(0, 1, 100)\n",
        "X2 = np.random.normal(0, 1, 100)\n",
        "\n",
        "plt.plot(X);\n",
        "plt.plot(X2);\n"
      ],
      "metadata": {
        "id": "HylsQkMjKvUw"
      },
      "execution_count": null,
      "outputs": []
    },
    {
      "cell_type": "code",
      "source": [
        "X = np.random.normal(0, 1, 100)\n",
        "X2 = np.random.normal(0, 1, 100)\n",
        "\n",
        "plt.plot(X);\n",
        "plt.plot(X2);\n"
      ],
      "metadata": {
        "id": "-dwzQn-UKvKy"
      },
      "execution_count": null,
      "outputs": []
    },
    {
      "cell_type": "code",
      "source": [
        "X = np.random.normal(0, 1, 100)\n",
        "X2 = np.random.normal(0, 1, 100)\n",
        "\n",
        "plt.plot(X);\n",
        "plt.plot(X2);\n"
      ],
      "metadata": {
        "id": "bAek7e0kKvCS"
      },
      "execution_count": null,
      "outputs": []
    },
    {
      "cell_type": "code",
      "source": [
        "X = np.random.normal(0, 1, 100)\n",
        "X2 = np.random.normal(0, 1, 100)\n",
        "\n",
        "plt.plot(X);\n",
        "plt.plot(X2);\n"
      ],
      "metadata": {
        "id": "1OhOwGm1Ku6y"
      },
      "execution_count": null,
      "outputs": []
    },
    {
      "cell_type": "code",
      "source": [
        "X = np.random.normal(0, 1, 100)\n",
        "X2 = np.random.normal(0, 1, 100)\n",
        "\n",
        "plt.plot(X);\n",
        "plt.plot(X2);\n"
      ],
      "metadata": {
        "id": "ol0paOD5Kuyo"
      },
      "execution_count": null,
      "outputs": []
    },
    {
      "cell_type": "markdown",
      "source": [
        "## **10 Adición de etiquetas de eje**"
      ],
      "metadata": {
        "id": "o3yq8spRgfMP"
      }
    },
    {
      "cell_type": "code",
      "source": [
        "X = np.random.normal(0, 1, 100)\n",
        "X2 = np.random.normal(0, 1, 100)\n",
        "\n",
        "plt.plot(X);\n",
        "plt.plot(X2);\n",
        "plt.xlabel('Time') # The data we generated is unitless, but don't forget units in general.\n",
        "plt.ylabel('Returns')\n"
      ],
      "metadata": {
        "id": "zH3hug6Hgza1",
        "colab": {
          "base_uri": "https://localhost:8080/",
          "height": 296
        },
        "outputId": "683f769e-a04d-4a12-b79e-7c08a74e9505"
      },
      "execution_count": null,
      "outputs": [
        {
          "output_type": "execute_result",
          "data": {
            "text/plain": [
              "Text(0, 0.5, 'Returns')"
            ]
          },
          "metadata": {},
          "execution_count": 9
        },
        {
          "output_type": "display_data",
          "data": {
            "text/plain": [
              "<Figure size 432x288 with 1 Axes>"
            ],
            "image/png": "[encoded data removed]"
          },
          "metadata": {
            "needs_background": "light"
          }
        }
      ]
    },
    {
      "cell_type": "code",
      "source": [
        "X = np.random.normal(0, 1, 100)\n",
        "X2 = np.random.normal(0, 1, 100)\n",
        "\n",
        "plt.plot(X);\n",
        "plt.plot(X2);\n",
        "plt.xlabel('Time') # The data we generated is unitless, but don't forget units in general.\n",
        "plt.ylabel('Returns')"
      ],
      "metadata": {
        "id": "kexU0cvzLjIe"
      },
      "execution_count": null,
      "outputs": []
    },
    {
      "cell_type": "code",
      "source": [
        "X = np.random.normal(0, 1, 100)\n",
        "X2 = np.random.normal(0, 1, 100)\n",
        "\n",
        "plt.plot(X);\n",
        "plt.plot(X2);\n",
        "plt.xlabel('Time') # The data we generated is unitless, but don't forget units in general.\n",
        "plt.ylabel('Returns')"
      ],
      "metadata": {
        "id": "LR_oZsFoLi_C"
      },
      "execution_count": null,
      "outputs": []
    },
    {
      "cell_type": "code",
      "source": [
        "X = np.random.normal(0, 1, 100)\n",
        "X2 = np.random.normal(0, 1, 100)\n",
        "\n",
        "plt.plot(X);\n",
        "plt.plot(X2);\n",
        "plt.xlabel('Time') # The data we generated is unitless, but don't forget units in general.\n",
        "plt.ylabel('Returns')"
      ],
      "metadata": {
        "id": "s4T3KbKyLi1p"
      },
      "execution_count": null,
      "outputs": []
    },
    {
      "cell_type": "code",
      "source": [
        "X = np.random.normal(0, 1, 100)\n",
        "X2 = np.random.normal(0, 1, 100)\n",
        "\n",
        "plt.plot(X);\n",
        "plt.plot(X2);\n",
        "plt.xlabel('Time') # The data we generated is unitless, but don't forget units in general.\n",
        "plt.ylabel('Returns')"
      ],
      "metadata": {
        "id": "qoStHf6NLis4"
      },
      "execution_count": null,
      "outputs": []
    },
    {
      "cell_type": "code",
      "source": [
        "X = np.random.normal(0, 1, 100)\n",
        "X2 = np.random.normal(0, 1, 100)\n",
        "\n",
        "plt.plot(X);\n",
        "plt.plot(X2);\n",
        "plt.xlabel('Time') # The data we generated is unitless, but don't forget units in general.\n",
        "plt.ylabel('Returns')"
      ],
      "metadata": {
        "id": "Wa-UQyjvLikf"
      },
      "execution_count": null,
      "outputs": []
    },
    {
      "cell_type": "code",
      "source": [
        "X = np.random.normal(0, 1, 100)\n",
        "X2 = np.random.normal(0, 1, 100)\n",
        "\n",
        "plt.plot(X);\n",
        "plt.plot(X2);\n",
        "plt.xlabel('Time') # The data we generated is unitless, but don't forget units in general.\n",
        "plt.ylabel('Returns')"
      ],
      "metadata": {
        "id": "dsR0dhRNLicL"
      },
      "execution_count": null,
      "outputs": []
    },
    {
      "cell_type": "code",
      "source": [
        "X = np.random.normal(0, 1, 100)\n",
        "X2 = np.random.normal(0, 1, 100)\n",
        "\n",
        "plt.plot(X);\n",
        "plt.plot(X2);\n",
        "plt.xlabel('Time') # The data we generated is unitless, but don't forget units in general.\n",
        "plt.ylabel('Returns')"
      ],
      "metadata": {
        "id": "niqN3x5QLiUg"
      },
      "execution_count": null,
      "outputs": []
    },
    {
      "cell_type": "code",
      "source": [
        "X = np.random.normal(0, 1, 100)\n",
        "X2 = np.random.normal(0, 1, 100)\n",
        "\n",
        "plt.plot(X);\n",
        "plt.plot(X2);\n",
        "plt.xlabel('Time') # The data we generated is unitless, but don't forget units in general.\n",
        "plt.ylabel('Returns')"
      ],
      "metadata": {
        "id": "xUzcXxJxLiFm"
      },
      "execution_count": null,
      "outputs": []
    },
    {
      "cell_type": "code",
      "source": [
        "X = np.random.normal(0, 1, 100)\n",
        "X2 = np.random.normal(0, 1, 100)\n",
        "\n",
        "plt.plot(X);\n",
        "plt.plot(X2);\n",
        "plt.xlabel('Time') # The data we generated is unitless, but don't forget units in general.\n",
        "plt.ylabel('Returns')"
      ],
      "metadata": {
        "id": "dPBGgtkuLh9r"
      },
      "execution_count": null,
      "outputs": []
    },
    {
      "cell_type": "markdown",
      "source": [
        "## **11 Generación de estadísticas**"
      ],
      "metadata": {
        "id": "wggRcnnRg4Tw"
      }
    },
    {
      "cell_type": "code",
      "source": [
        "X = np.random.normal(0, 1, 100)\n",
        "np.mean(X)\n"
      ],
      "metadata": {
        "id": "qowykTFHhDrM",
        "colab": {
          "base_uri": "https://localhost:8080/"
        },
        "outputId": "171fbad6-278a-4aa6-d6f3-9a9fd5f991e0"
      },
      "execution_count": null,
      "outputs": [
        {
          "output_type": "execute_result",
          "data": {
            "text/plain": [
              "0.09536775071866568"
            ]
          },
          "metadata": {},
          "execution_count": 10
        }
      ]
    },
    {
      "cell_type": "code",
      "source": [
        "X = np.random.normal(0, 1, 100)\n",
        "np.mean(X)"
      ],
      "metadata": {
        "id": "U4nfnV3FMTGH"
      },
      "execution_count": null,
      "outputs": []
    },
    {
      "cell_type": "code",
      "source": [
        "X = np.random.normal(0, 1, 100)\n",
        "np.mean(X)"
      ],
      "metadata": {
        "id": "KhLn1u1VMS83"
      },
      "execution_count": null,
      "outputs": []
    },
    {
      "cell_type": "code",
      "source": [
        "X = np.random.normal(0, 1, 100)\n",
        "np.mean(X)"
      ],
      "metadata": {
        "id": "ONqi4pJrMSzf"
      },
      "execution_count": null,
      "outputs": []
    },
    {
      "cell_type": "code",
      "source": [
        "X = np.random.normal(0, 1, 100)\n",
        "np.mean(X)"
      ],
      "metadata": {
        "id": "wVx7o48nMSrE"
      },
      "execution_count": null,
      "outputs": []
    },
    {
      "cell_type": "code",
      "source": [
        "X = np.random.normal(0, 1, 100)\n",
        "np.mean(X)"
      ],
      "metadata": {
        "id": "l8UDRZCMMSiG"
      },
      "execution_count": null,
      "outputs": []
    },
    {
      "cell_type": "code",
      "source": [
        "X = np.random.normal(0, 1, 100)\n",
        "np.mean(X)"
      ],
      "metadata": {
        "id": "iEDhDba-MSZW"
      },
      "execution_count": null,
      "outputs": []
    },
    {
      "cell_type": "code",
      "source": [
        "X = np.random.normal(0, 1, 100)\n",
        "np.mean(X)"
      ],
      "metadata": {
        "id": "8bYtkXDaMSQU"
      },
      "execution_count": null,
      "outputs": []
    },
    {
      "cell_type": "code",
      "source": [
        "X = np.random.normal(0, 1, 100)\n",
        "np.mean(X)"
      ],
      "metadata": {
        "id": "tcvO3E5mMSH6"
      },
      "execution_count": null,
      "outputs": []
    },
    {
      "cell_type": "code",
      "source": [
        "X = np.random.normal(0, 1, 100)\n",
        "np.mean(X)"
      ],
      "metadata": {
        "id": "deR9UhSTMR-Y"
      },
      "execution_count": null,
      "outputs": []
    },
    {
      "cell_type": "markdown",
      "source": [
        "## **12 Generación de datos reales**"
      ],
      "metadata": {
        "id": "CzrD-l3zMZdz"
      }
    },
    {
      "cell_type": "code",
      "source": [
        "!pip install yfinance\n",
        "import yfinance as yf\n",
        "\n",
        "data1 = yf.download(\"MSFT\", start=\"2012-1-1\", end=\"2012-6-1\") \n"
      ],
      "metadata": {
        "colab": {
          "base_uri": "https://localhost:8080/"
        },
        "id": "0PkjycSnBkT0",
        "outputId": "ff2dc843-95a9-46e5-c9f2-87447d86bb3a"
      },
      "execution_count": null,
      "outputs": [
        {
          "output_type": "stream",
          "name": "stdout",
          "text": [
            "Looking in indexes: https://pypi.org/simple, https://us-python.pkg.dev/colab-wheels/public/simple/\n",
            "Requirement already satisfied: yfinance in /usr/local/lib/python3.7/dist-packages (0.1.74)\n",
            "Requirement already satisfied: requests>=2.26 in /usr/local/lib/python3.7/dist-packages (from yfinance) (2.28.1)\n",
            "Requirement already satisfied: pandas>=0.24.0 in /usr/local/lib/python3.7/dist-packages (from yfinance) (1.3.5)\n",
            "Requirement already satisfied: multitasking>=0.0.7 in /usr/local/lib/python3.7/dist-packages (from yfinance) (0.0.11)\n",
            "Requirement already satisfied: lxml>=4.5.1 in /usr/local/lib/python3.7/dist-packages (from yfinance) (4.9.1)\n",
            "Requirement already satisfied: numpy>=1.15 in /usr/local/lib/python3.7/dist-packages (from yfinance) (1.21.6)\n",
            "Requirement already satisfied: python-dateutil>=2.7.3 in /usr/local/lib/python3.7/dist-packages (from pandas>=0.24.0->yfinance) (2.8.2)\n",
            "Requirement already satisfied: pytz>=2017.3 in /usr/local/lib/python3.7/dist-packages (from pandas>=0.24.0->yfinance) (2022.2.1)\n",
            "Requirement already satisfied: six>=1.5 in /usr/local/lib/python3.7/dist-packages (from python-dateutil>=2.7.3->pandas>=0.24.0->yfinance) (1.15.0)\n",
            "Requirement already satisfied: idna<4,>=2.5 in /usr/local/lib/python3.7/dist-packages (from requests>=2.26->yfinance) (2.10)\n",
            "Requirement already satisfied: urllib3<1.27,>=1.21.1 in /usr/local/lib/python3.7/dist-packages (from requests>=2.26->yfinance) (1.24.3)\n",
            "Requirement already satisfied: certifi>=2017.4.17 in /usr/local/lib/python3.7/dist-packages (from requests>=2.26->yfinance) (2022.6.15)\n",
            "Requirement already satisfied: charset-normalizer<3,>=2 in /usr/local/lib/python3.7/dist-packages (from requests>=2.26->yfinance) (2.1.0)\n",
            "[*********************100%***********************]  1 of 1 completed\n"
          ]
        }
      ]
    },
    {
      "cell_type": "code",
      "source": [
        "!pip install yfinance\n",
        "import yfinance as yf\n",
        "\n",
        "data2 = yf.download(\"MSFT\", start=\"2012-6-1\", end=\"2013-1-1\") \n"
      ],
      "metadata": {
        "colab": {
          "base_uri": "https://localhost:8080/"
        },
        "id": "q_6RjowuUXqy",
        "outputId": "d0e5dabe-2448-4376-bd5e-62b1503e8234"
      },
      "execution_count": null,
      "outputs": [
        {
          "output_type": "stream",
          "name": "stdout",
          "text": [
            "Looking in indexes: https://pypi.org/simple, https://us-python.pkg.dev/colab-wheels/public/simple/\n",
            "Requirement already satisfied: yfinance in /usr/local/lib/python3.7/dist-packages (0.1.74)\n",
            "Requirement already satisfied: numpy>=1.15 in /usr/local/lib/python3.7/dist-packages (from yfinance) (1.21.6)\n",
            "Requirement already satisfied: requests>=2.26 in /usr/local/lib/python3.7/dist-packages (from yfinance) (2.28.1)\n",
            "Requirement already satisfied: pandas>=0.24.0 in /usr/local/lib/python3.7/dist-packages (from yfinance) (1.3.5)\n",
            "Requirement already satisfied: multitasking>=0.0.7 in /usr/local/lib/python3.7/dist-packages (from yfinance) (0.0.11)\n",
            "Requirement already satisfied: lxml>=4.5.1 in /usr/local/lib/python3.7/dist-packages (from yfinance) (4.9.1)\n",
            "Requirement already satisfied: pytz>=2017.3 in /usr/local/lib/python3.7/dist-packages (from pandas>=0.24.0->yfinance) (2022.2.1)\n",
            "Requirement already satisfied: python-dateutil>=2.7.3 in /usr/local/lib/python3.7/dist-packages (from pandas>=0.24.0->yfinance) (2.8.2)\n",
            "Requirement already satisfied: six>=1.5 in /usr/local/lib/python3.7/dist-packages (from python-dateutil>=2.7.3->pandas>=0.24.0->yfinance) (1.15.0)\n",
            "Requirement already satisfied: certifi>=2017.4.17 in /usr/local/lib/python3.7/dist-packages (from requests>=2.26->yfinance) (2022.6.15)\n",
            "Requirement already satisfied: charset-normalizer<3,>=2 in /usr/local/lib/python3.7/dist-packages (from requests>=2.26->yfinance) (2.1.0)\n",
            "Requirement already satisfied: idna<4,>=2.5 in /usr/local/lib/python3.7/dist-packages (from requests>=2.26->yfinance) (2.10)\n",
            "Requirement already satisfied: urllib3<1.27,>=1.21.1 in /usr/local/lib/python3.7/dist-packages (from requests>=2.26->yfinance) (1.24.3)\n",
            "[*********************100%***********************]  1 of 1 completed\n"
          ]
        }
      ]
    },
    {
      "cell_type": "code",
      "source": [
        "!pip install yfinance\n",
        "import yfinance as yf\n",
        "\n",
        "data3 = yf.download(\"MSFT\", start=\"2013-1-1\", end=\"2013-6-1\") \n"
      ],
      "metadata": {
        "id": "xdVb0SMzUXiW"
      },
      "execution_count": null,
      "outputs": []
    },
    {
      "cell_type": "code",
      "source": [
        "!pip install yfinance\n",
        "import yfinance as yf\n",
        "\n",
        "data4 = yf.download(\"MSFT\", start=\"2013-6-1\", end=\"2014-1-1\") \n"
      ],
      "metadata": {
        "id": "q1jefkrlUXaI"
      },
      "execution_count": null,
      "outputs": []
    },
    {
      "cell_type": "code",
      "source": [
        "!pip install yfinance\n",
        "import yfinance as yf\n",
        "\n",
        "data5 = yf.download(\"MSFT\", start=\"2014-1-1\", end=\"2014-6-1\") \n"
      ],
      "metadata": {
        "id": "Ao8qHZwAUXRz"
      },
      "execution_count": null,
      "outputs": []
    },
    {
      "cell_type": "code",
      "source": [
        "!pip install yfinance\n",
        "import yfinance as yf\n",
        "\n",
        "data6 = yf.download(\"MSFT\", start=\"2014-6-1\", end=\"2015-1-1\") \n"
      ],
      "metadata": {
        "id": "MfHysBc3UXJb"
      },
      "execution_count": null,
      "outputs": []
    },
    {
      "cell_type": "code",
      "source": [
        "!pip install yfinance\n",
        "import yfinance as yf\n",
        "\n",
        "data7 = yf.download(\"MSFT\", start=\"2015-1-1\", end=\"2015-6-1\") \n"
      ],
      "metadata": {
        "id": "fTL8AyZqUXCF"
      },
      "execution_count": null,
      "outputs": []
    },
    {
      "cell_type": "code",
      "source": [
        "!pip install yfinance\n",
        "import yfinance as yf\n",
        "\n",
        "data8 = yf.download(\"MSFT\", start=\"2015-6-1\", end=\"2016-1-1\") \n"
      ],
      "metadata": {
        "id": "hnEFt7dhUW6u"
      },
      "execution_count": null,
      "outputs": []
    },
    {
      "cell_type": "code",
      "source": [
        "!pip install yfinance\n",
        "import yfinance as yf\n",
        "\n",
        "data9 = yf.download(\"MSFT\", start=\"2016-1-1\", end=\"2016-6-1\") \n"
      ],
      "metadata": {
        "id": "vmhAR5ojUWzc"
      },
      "execution_count": null,
      "outputs": []
    },
    {
      "cell_type": "code",
      "source": [
        "!pip install yfinance\n",
        "import yfinance as yf\n",
        "\n",
        "data10 = yf.download(\"MSFT\", start=\"2016-6-1\", end=\"2017-1-1\") \n"
      ],
      "metadata": {
        "colab": {
          "base_uri": "https://localhost:8080/",
          "height": 715
        },
        "id": "uP7w7VGfBnSn",
        "outputId": "0bbd587e-8f2b-43c9-a22a-6000dec42a19"
      },
      "execution_count": null,
      "outputs": [
        {
          "output_type": "stream",
          "name": "stdout",
          "text": [
            "Looking in indexes: https://pypi.org/simple, https://us-python.pkg.dev/colab-wheels/public/simple/\n",
            "Requirement already satisfied: yfinance in /usr/local/lib/python3.7/dist-packages (0.1.74)\n",
            "Requirement already satisfied: pandas>=0.24.0 in /usr/local/lib/python3.7/dist-packages (from yfinance) (1.3.5)\n",
            "Requirement already satisfied: lxml>=4.5.1 in /usr/local/lib/python3.7/dist-packages (from yfinance) (4.9.1)\n",
            "Requirement already satisfied: requests>=2.26 in /usr/local/lib/python3.7/dist-packages (from yfinance) (2.28.1)\n",
            "Requirement already satisfied: multitasking>=0.0.7 in /usr/local/lib/python3.7/dist-packages (from yfinance) (0.0.11)\n",
            "Requirement already satisfied: numpy>=1.15 in /usr/local/lib/python3.7/dist-packages (from yfinance) (1.21.6)\n",
            "Requirement already satisfied: python-dateutil>=2.7.3 in /usr/local/lib/python3.7/dist-packages (from pandas>=0.24.0->yfinance) (2.8.2)\n",
            "Requirement already satisfied: pytz>=2017.3 in /usr/local/lib/python3.7/dist-packages (from pandas>=0.24.0->yfinance) (2022.2.1)\n",
            "Requirement already satisfied: six>=1.5 in /usr/local/lib/python3.7/dist-packages (from python-dateutil>=2.7.3->pandas>=0.24.0->yfinance) (1.15.0)\n",
            "Requirement already satisfied: urllib3<1.27,>=1.21.1 in /usr/local/lib/python3.7/dist-packages (from requests>=2.26->yfinance) (1.24.3)\n",
            "Requirement already satisfied: charset-normalizer<3,>=2 in /usr/local/lib/python3.7/dist-packages (from requests>=2.26->yfinance) (2.1.0)\n",
            "Requirement already satisfied: certifi>=2017.4.17 in /usr/local/lib/python3.7/dist-packages (from requests>=2.26->yfinance) (2022.6.15)\n",
            "Requirement already satisfied: idna<4,>=2.5 in /usr/local/lib/python3.7/dist-packages (from requests>=2.26->yfinance) (2.10)\n",
            "[*********************100%***********************]  1 of 1 completed\n"
          ]
        },
        {
          "output_type": "execute_result",
          "data": {
            "text/plain": [
              "                 Open       High        Low      Close  Adj Close    Volume\n",
              "Date                                                                       \n",
              "2016-06-01  52.439999  52.950001  52.439999  52.849998  48.191853  25324800\n",
              "2016-06-02  52.639999  52.740002  51.840000  52.480000  47.854462  22840800\n",
              "2016-06-03  52.380001  52.419998  51.599998  51.790001  47.225285  23368300\n",
              "2016-06-06  51.990002  52.349998  51.889999  52.130001  47.535309  18243300\n",
              "2016-06-07  52.240002  52.730000  52.099998  52.099998  47.507957  20866800\n",
              "...               ...        ...        ...        ...        ...       ...\n",
              "2016-12-23  63.450001  63.540001  62.799999  63.240002  58.417488  12403800\n",
              "2016-12-27  63.209999  64.070000  63.209999  63.279999  58.454445  11763200\n",
              "2016-12-28  63.400002  63.400002  62.830002  62.990002  58.186554  14653300\n",
              "2016-12-29  62.860001  63.200001  62.730000  62.900002  58.103424  10250600\n",
              "2016-12-30  62.959999  62.990002  62.029999  62.139999  57.401375  25579900\n",
              "\n",
              "[149 rows x 6 columns]"
            ],
            "text/html": [
              "\n",
              "  <div id=\"df-96b41a04-4b10-48c6-a931-85a742037660\">\n",
              "    <div class=\"colab-df-container\">\n",
              "      <div>\n",
              "<style scoped>\n",
              "    .dataframe tbody tr th:only-of-type {\n",
              "        vertical-align: middle;\n",
              "    }\n",
              "\n",
              "    .dataframe tbody tr th {\n",
              "        vertical-align: top;\n",
              "    }\n",
              "\n",
              "    .dataframe thead th {\n",
              "        text-align: right;\n",
              "    }\n",
              "</style>\n",
              "<table border=\"1\" class=\"dataframe\">\n",
              "  <thead>\n",
              "    <tr style=\"text-align: right;\">\n",
              "      <th></th>\n",
              "      <th>Open</th>\n",
              "      <th>High</th>\n",
              "      <th>Low</th>\n",
              "      <th>Close</th>\n",
              "      <th>Adj Close</th>\n",
              "      <th>Volume</th>\n",
              "    </tr>\n",
              "    <tr>\n",
              "      <th>Date</th>\n",
              "      <th></th>\n",
              "      <th></th>\n",
              "      <th></th>\n",
              "      <th></th>\n",
              "      <th></th>\n",
              "      <th></th>\n",
              "    </tr>\n",
              "  </thead>\n",
              "  <tbody>\n",
              "    <tr>\n",
              "      <th>2016-06-01</th>\n",
              "      <td>52.439999</td>\n",
              "      <td>52.950001</td>\n",
              "      <td>52.439999</td>\n",
              "      <td>52.849998</td>\n",
              "      <td>48.191853</td>\n",
              "      <td>25324800</td>\n",
              "    </tr>\n",
              "    <tr>\n",
              "      <th>2016-06-02</th>\n",
              "      <td>52.639999</td>\n",
              "      <td>52.740002</td>\n",
              "      <td>51.840000</td>\n",
              "      <td>52.480000</td>\n",
              "      <td>47.854462</td>\n",
              "      <td>22840800</td>\n",
              "    </tr>\n",
              "    <tr>\n",
              "      <th>2016-06-03</th>\n",
              "      <td>52.380001</td>\n",
              "      <td>52.419998</td>\n",
              "      <td>51.599998</td>\n",
              "      <td>51.790001</td>\n",
              "      <td>47.225285</td>\n",
              "      <td>23368300</td>\n",
              "    </tr>\n",
              "    <tr>\n",
              "      <th>2016-06-06</th>\n",
              "      <td>51.990002</td>\n",
              "      <td>52.349998</td>\n",
              "      <td>51.889999</td>\n",
              "      <td>52.130001</td>\n",
              "      <td>47.535309</td>\n",
              "      <td>18243300</td>\n",
              "    </tr>\n",
              "    <tr>\n",
              "      <th>2016-06-07</th>\n",
              "      <td>52.240002</td>\n",
              "      <td>52.730000</td>\n",
              "      <td>52.099998</td>\n",
              "      <td>52.099998</td>\n",
              "      <td>47.507957</td>\n",
              "      <td>20866800</td>\n",
              "    </tr>\n",
              "    <tr>\n",
              "      <th>...</th>\n",
              "      <td>...</td>\n",
              "      <td>...</td>\n",
              "      <td>...</td>\n",
              "      <td>...</td>\n",
              "      <td>...</td>\n",
              "      <td>...</td>\n",
              "    </tr>\n",
              "    <tr>\n",
              "      <th>2016-12-23</th>\n",
              "      <td>63.450001</td>\n",
              "      <td>63.540001</td>\n",
              "      <td>62.799999</td>\n",
              "      <td>63.240002</td>\n",
              "      <td>58.417488</td>\n",
              "      <td>12403800</td>\n",
              "    </tr>\n",
              "    <tr>\n",
              "      <th>2016-12-27</th>\n",
              "      <td>63.209999</td>\n",
              "      <td>64.070000</td>\n",
              "      <td>63.209999</td>\n",
              "      <td>63.279999</td>\n",
              "      <td>58.454445</td>\n",
              "      <td>11763200</td>\n",
              "    </tr>\n",
              "    <tr>\n",
              "      <th>2016-12-28</th>\n",
              "      <td>63.400002</td>\n",
              "      <td>63.400002</td>\n",
              "      <td>62.830002</td>\n",
              "      <td>62.990002</td>\n",
              "      <td>58.186554</td>\n",
              "      <td>14653300</td>\n",
              "    </tr>\n",
              "    <tr>\n",
              "      <th>2016-12-29</th>\n",
              "      <td>62.860001</td>\n",
              "      <td>63.200001</td>\n",
              "      <td>62.730000</td>\n",
              "      <td>62.900002</td>\n",
              "      <td>58.103424</td>\n",
              "      <td>10250600</td>\n",
              "    </tr>\n",
              "    <tr>\n",
              "      <th>2016-12-30</th>\n",
              "      <td>62.959999</td>\n",
              "      <td>62.990002</td>\n",
              "      <td>62.029999</td>\n",
              "      <td>62.139999</td>\n",
              "      <td>57.401375</td>\n",
              "      <td>25579900</td>\n",
              "    </tr>\n",
              "  </tbody>\n",
              "</table>\n",
              "<p>149 rows × 6 columns</p>\n",
              "</div>\n",
              "      <button class=\"colab-df-convert\" onclick=\"convertToInteractive('df-96b41a04-4b10-48c6-a931-85a742037660')\"\n",
              "              title=\"Convert this dataframe to an interactive table.\"\n",
              "              style=\"display:none;\">\n",
              "        \n",
              "  <svg xmlns=\"http://www.w3.org/2000/svg\" height=\"24px\"viewBox=\"0 0 24 24\"\n",
              "       width=\"24px\">\n",
              "    <path d=\"M0 0h24v24H0V0z\" fill=\"none\"/>\n",
              "    <path d=\"M18.56 5.44l.94 2.06.94-2.06 2.06-.94-2.06-.94-.94-2.06-.94 2.06-2.06.94zm-11 1L8.5 8.5l.94-2.06 2.06-.94-2.06-.94L8.5 2.5l-.94 2.06-2.06.94zm10 10l.94 2.06.94-2.06 2.06-.94-2.06-.94-.94-2.06-.94 2.06-2.06.94z\"/><path d=\"M17.41 7.96l-1.37-1.37c-.4-.4-.92-.59-1.43-.59-.52 0-1.04.2-1.43.59L10.3 9.45l-7.72 7.72c-.78.78-.78 2.05 0 2.83L4 21.41c.39.39.9.59 1.41.59.51 0 1.02-.2 1.41-.59l7.78-7.78 2.81-2.81c.8-.78.8-2.07 0-2.86zM5.41 20L4 18.59l7.72-7.72 1.47 1.35L5.41 20z\"/>\n",
              "  </svg>\n",
              "      </button>\n",
              "      \n",
              "  <style>\n",
              "    .colab-df-container {\n",
              "      display:flex;\n",
              "      flex-wrap:wrap;\n",
              "      gap: 12px;\n",
              "    }\n",
              "\n",
              "    .colab-df-convert {\n",
              "      background-color: #E8F0FE;\n",
              "      border: none;\n",
              "      border-radius: 50%;\n",
              "      cursor: pointer;\n",
              "      display: none;\n",
              "      fill: #1967D2;\n",
              "      height: 32px;\n",
              "      padding: 0 0 0 0;\n",
              "      width: 32px;\n",
              "    }\n",
              "\n",
              "    .colab-df-convert:hover {\n",
              "      background-color: #E2EBFA;\n",
              "      box-shadow: 0px 1px 2px rgba(60, 64, 67, 0.3), 0px 1px 3px 1px rgba(60, 64, 67, 0.15);\n",
              "      fill: #174EA6;\n",
              "    }\n",
              "\n",
              "    [theme=dark] .colab-df-convert {\n",
              "      background-color: #3B4455;\n",
              "      fill: #D2E3FC;\n",
              "    }\n",
              "\n",
              "    [theme=dark] .colab-df-convert:hover {\n",
              "      background-color: #434B5C;\n",
              "      box-shadow: 0px 1px 3px 1px rgba(0, 0, 0, 0.15);\n",
              "      filter: drop-shadow(0px 1px 2px rgba(0, 0, 0, 0.3));\n",
              "      fill: #FFFFFF;\n",
              "    }\n",
              "  </style>\n",
              "\n",
              "      <script>\n",
              "        const buttonEl =\n",
              "          document.querySelector('#df-96b41a04-4b10-48c6-a931-85a742037660 button.colab-df-convert');\n",
              "        buttonEl.style.display =\n",
              "          google.colab.kernel.accessAllowed ? 'block' : 'none';\n",
              "\n",
              "        async function convertToInteractive(key) {\n",
              "          const element = document.querySelector('#df-96b41a04-4b10-48c6-a931-85a742037660');\n",
              "          const dataTable =\n",
              "            await google.colab.kernel.invokeFunction('convertToInteractive',\n",
              "                                                     [key], {});\n",
              "          if (!dataTable) return;\n",
              "\n",
              "          const docLinkHtml = 'Like what you see? Visit the ' +\n",
              "            '<a target=\"_blank\" href=https://colab.research.google.com/notebooks/data_table.ipynb>data table notebook</a>'\n",
              "            + ' to learn more about interactive tables.';\n",
              "          element.innerHTML = '';\n",
              "          dataTable['output_type'] = 'display_data';\n",
              "          await google.colab.output.renderOutput(dataTable, element);\n",
              "          const docLink = document.createElement('div');\n",
              "          docLink.innerHTML = docLinkHtml;\n",
              "          element.appendChild(docLink);\n",
              "        }\n",
              "      </script>\n",
              "    </div>\n",
              "  </div>\n",
              "  "
            ]
          },
          "metadata": {},
          "execution_count": 15
        }
      ]
    },
    {
      "cell_type": "markdown",
      "source": [
        "## **13 mistrar datos**"
      ],
      "metadata": {
        "id": "FEaFdq_IVYLd"
      }
    },
    {
      "cell_type": "code",
      "source": [
        "data1\n"
      ],
      "metadata": {
        "colab": {
          "base_uri": "https://localhost:8080/",
          "height": 455
        },
        "id": "QYM-t69eVpl8",
        "outputId": "bf38ea3b-8575-4414-a445-81468962e7ca"
      },
      "execution_count": null,
      "outputs": [
        {
          "output_type": "execute_result",
          "data": {
            "text/plain": [
              "                 Open       High        Low      Close  Adj Close    Volume\n",
              "Date                                                                       \n",
              "2012-01-03  26.549999  26.959999  26.389999  26.770000  21.527195  64731500\n",
              "2012-01-04  26.820000  27.469999  26.780001  27.400000  22.033817  80516100\n",
              "2012-01-05  27.379999  27.730000  27.290001  27.680000  22.258974  56081400\n",
              "2012-01-06  27.530001  28.190001  27.530001  28.110001  22.604761  99455500\n",
              "2012-01-09  28.049999  28.100000  27.719999  27.740000  22.307226  59706800\n",
              "...               ...        ...        ...        ...        ...       ...\n",
              "2012-05-24  29.160000  29.299999  28.760000  29.070000  23.685047  52575000\n",
              "2012-05-25  29.200001  29.360001  29.010000  29.059999  23.676895  29507200\n",
              "2012-05-29  29.379999  29.719999  29.219999  29.559999  24.084280  37758800\n",
              "2012-05-30  29.350000  29.480000  29.120001  29.340000  23.905027  41585500\n",
              "2012-05-31  29.299999  29.420000  28.940001  29.190001  23.782816  39134000\n",
              "\n",
              "[104 rows x 6 columns]"
            ],
            "text/html": [
              "\n",
              "  <div id=\"df-42bcd0a9-1b5b-4f7f-834c-242ce6386fc4\">\n",
              "    <div class=\"colab-df-container\">\n",
              "      <div>\n",
              "<style scoped>\n",
              "    .dataframe tbody tr th:only-of-type {\n",
              "        vertical-align: middle;\n",
              "    }\n",
              "\n",
              "    .dataframe tbody tr th {\n",
              "        vertical-align: top;\n",
              "    }\n",
              "\n",
              "    .dataframe thead th {\n",
              "        text-align: right;\n",
              "    }\n",
              "</style>\n",
              "<table border=\"1\" class=\"dataframe\">\n",
              "  <thead>\n",
              "    <tr style=\"text-align: right;\">\n",
              "      <th></th>\n",
              "      <th>Open</th>\n",
              "      <th>High</th>\n",
              "      <th>Low</th>\n",
              "      <th>Close</th>\n",
              "      <th>Adj Close</th>\n",
              "      <th>Volume</th>\n",
              "    </tr>\n",
              "    <tr>\n",
              "      <th>Date</th>\n",
              "      <th></th>\n",
              "      <th></th>\n",
              "      <th></th>\n",
              "      <th></th>\n",
              "      <th></th>\n",
              "      <th></th>\n",
              "    </tr>\n",
              "  </thead>\n",
              "  <tbody>\n",
              "    <tr>\n",
              "      <th>2012-01-03</th>\n",
              "      <td>26.549999</td>\n",
              "      <td>26.959999</td>\n",
              "      <td>26.389999</td>\n",
              "      <td>26.770000</td>\n",
              "      <td>21.527195</td>\n",
              "      <td>64731500</td>\n",
              "    </tr>\n",
              "    <tr>\n",
              "      <th>2012-01-04</th>\n",
              "      <td>26.820000</td>\n",
              "      <td>27.469999</td>\n",
              "      <td>26.780001</td>\n",
              "      <td>27.400000</td>\n",
              "      <td>22.033817</td>\n",
              "      <td>80516100</td>\n",
              "    </tr>\n",
              "    <tr>\n",
              "      <th>2012-01-05</th>\n",
              "      <td>27.379999</td>\n",
              "      <td>27.730000</td>\n",
              "      <td>27.290001</td>\n",
              "      <td>27.680000</td>\n",
              "      <td>22.258974</td>\n",
              "      <td>56081400</td>\n",
              "    </tr>\n",
              "    <tr>\n",
              "      <th>2012-01-06</th>\n",
              "      <td>27.530001</td>\n",
              "      <td>28.190001</td>\n",
              "      <td>27.530001</td>\n",
              "      <td>28.110001</td>\n",
              "      <td>22.604761</td>\n",
              "      <td>99455500</td>\n",
              "    </tr>\n",
              "    <tr>\n",
              "      <th>2012-01-09</th>\n",
              "      <td>28.049999</td>\n",
              "      <td>28.100000</td>\n",
              "      <td>27.719999</td>\n",
              "      <td>27.740000</td>\n",
              "      <td>22.307226</td>\n",
              "      <td>59706800</td>\n",
              "    </tr>\n",
              "    <tr>\n",
              "      <th>...</th>\n",
              "      <td>...</td>\n",
              "      <td>...</td>\n",
              "      <td>...</td>\n",
              "      <td>...</td>\n",
              "      <td>...</td>\n",
              "      <td>...</td>\n",
              "    </tr>\n",
              "    <tr>\n",
              "      <th>2012-05-24</th>\n",
              "      <td>29.160000</td>\n",
              "      <td>29.299999</td>\n",
              "      <td>28.760000</td>\n",
              "      <td>29.070000</td>\n",
              "      <td>23.685047</td>\n",
              "      <td>52575000</td>\n",
              "    </tr>\n",
              "    <tr>\n",
              "      <th>2012-05-25</th>\n",
              "      <td>29.200001</td>\n",
              "      <td>29.360001</td>\n",
              "      <td>29.010000</td>\n",
              "      <td>29.059999</td>\n",
              "      <td>23.676895</td>\n",
              "      <td>29507200</td>\n",
              "    </tr>\n",
              "    <tr>\n",
              "      <th>2012-05-29</th>\n",
              "      <td>29.379999</td>\n",
              "      <td>29.719999</td>\n",
              "      <td>29.219999</td>\n",
              "      <td>29.559999</td>\n",
              "      <td>24.084280</td>\n",
              "      <td>37758800</td>\n",
              "    </tr>\n",
              "    <tr>\n",
              "      <th>2012-05-30</th>\n",
              "      <td>29.350000</td>\n",
              "      <td>29.480000</td>\n",
              "      <td>29.120001</td>\n",
              "      <td>29.340000</td>\n",
              "      <td>23.905027</td>\n",
              "      <td>41585500</td>\n",
              "    </tr>\n",
              "    <tr>\n",
              "      <th>2012-05-31</th>\n",
              "      <td>29.299999</td>\n",
              "      <td>29.420000</td>\n",
              "      <td>28.940001</td>\n",
              "      <td>29.190001</td>\n",
              "      <td>23.782816</td>\n",
              "      <td>39134000</td>\n",
              "    </tr>\n",
              "  </tbody>\n",
              "</table>\n",
              "<p>104 rows × 6 columns</p>\n",
              "</div>\n",
              "      <button class=\"colab-df-convert\" onclick=\"convertToInteractive('df-42bcd0a9-1b5b-4f7f-834c-242ce6386fc4')\"\n",
              "              title=\"Convert this dataframe to an interactive table.\"\n",
              "              style=\"display:none;\">\n",
              "        \n",
              "  <svg xmlns=\"http://www.w3.org/2000/svg\" height=\"24px\"viewBox=\"0 0 24 24\"\n",
              "       width=\"24px\">\n",
              "    <path d=\"M0 0h24v24H0V0z\" fill=\"none\"/>\n",
              "    <path d=\"M18.56 5.44l.94 2.06.94-2.06 2.06-.94-2.06-.94-.94-2.06-.94 2.06-2.06.94zm-11 1L8.5 8.5l.94-2.06 2.06-.94-2.06-.94L8.5 2.5l-.94 2.06-2.06.94zm10 10l.94 2.06.94-2.06 2.06-.94-2.06-.94-.94-2.06-.94 2.06-2.06.94z\"/><path d=\"M17.41 7.96l-1.37-1.37c-.4-.4-.92-.59-1.43-.59-.52 0-1.04.2-1.43.59L10.3 9.45l-7.72 7.72c-.78.78-.78 2.05 0 2.83L4 21.41c.39.39.9.59 1.41.59.51 0 1.02-.2 1.41-.59l7.78-7.78 2.81-2.81c.8-.78.8-2.07 0-2.86zM5.41 20L4 18.59l7.72-7.72 1.47 1.35L5.41 20z\"/>\n",
              "  </svg>\n",
              "      </button>\n",
              "      \n",
              "  <style>\n",
              "    .colab-df-container {\n",
              "      display:flex;\n",
              "      flex-wrap:wrap;\n",
              "      gap: 12px;\n",
              "    }\n",
              "\n",
              "    .colab-df-convert {\n",
              "      background-color: #E8F0FE;\n",
              "      border: none;\n",
              "      border-radius: 50%;\n",
              "      cursor: pointer;\n",
              "      display: none;\n",
              "      fill: #1967D2;\n",
              "      height: 32px;\n",
              "      padding: 0 0 0 0;\n",
              "      width: 32px;\n",
              "    }\n",
              "\n",
              "    .colab-df-convert:hover {\n",
              "      background-color: #E2EBFA;\n",
              "      box-shadow: 0px 1px 2px rgba(60, 64, 67, 0.3), 0px 1px 3px 1px rgba(60, 64, 67, 0.15);\n",
              "      fill: #174EA6;\n",
              "    }\n",
              "\n",
              "    [theme=dark] .colab-df-convert {\n",
              "      background-color: #3B4455;\n",
              "      fill: #D2E3FC;\n",
              "    }\n",
              "\n",
              "    [theme=dark] .colab-df-convert:hover {\n",
              "      background-color: #434B5C;\n",
              "      box-shadow: 0px 1px 3px 1px rgba(0, 0, 0, 0.15);\n",
              "      filter: drop-shadow(0px 1px 2px rgba(0, 0, 0, 0.3));\n",
              "      fill: #FFFFFF;\n",
              "    }\n",
              "  </style>\n",
              "\n",
              "      <script>\n",
              "        const buttonEl =\n",
              "          document.querySelector('#df-42bcd0a9-1b5b-4f7f-834c-242ce6386fc4 button.colab-df-convert');\n",
              "        buttonEl.style.display =\n",
              "          google.colab.kernel.accessAllowed ? 'block' : 'none';\n",
              "\n",
              "        async function convertToInteractive(key) {\n",
              "          const element = document.querySelector('#df-42bcd0a9-1b5b-4f7f-834c-242ce6386fc4');\n",
              "          const dataTable =\n",
              "            await google.colab.kernel.invokeFunction('convertToInteractive',\n",
              "                                                     [key], {});\n",
              "          if (!dataTable) return;\n",
              "\n",
              "          const docLinkHtml = 'Like what you see? Visit the ' +\n",
              "            '<a target=\"_blank\" href=https://colab.research.google.com/notebooks/data_table.ipynb>data table notebook</a>'\n",
              "            + ' to learn more about interactive tables.';\n",
              "          element.innerHTML = '';\n",
              "          dataTable['output_type'] = 'display_data';\n",
              "          await google.colab.output.renderOutput(dataTable, element);\n",
              "          const docLink = document.createElement('div');\n",
              "          docLink.innerHTML = docLinkHtml;\n",
              "          element.appendChild(docLink);\n",
              "        }\n",
              "      </script>\n",
              "    </div>\n",
              "  </div>\n",
              "  "
            ]
          },
          "metadata": {},
          "execution_count": 23
        }
      ]
    },
    {
      "cell_type": "code",
      "source": [
        "data2\n"
      ],
      "metadata": {
        "colab": {
          "base_uri": "https://localhost:8080/",
          "height": 455
        },
        "id": "PSORb1SMWCvY",
        "outputId": "3cab0a22-5368-4d0e-9070-1ac830919b8d"
      },
      "execution_count": null,
      "outputs": [
        {
          "output_type": "execute_result",
          "data": {
            "text/plain": [
              "                 Open       High        Low      Close  Adj Close    Volume\n",
              "Date                                                                       \n",
              "2012-06-01  28.760000  28.959999  28.440001  28.450001  23.179897  56634300\n",
              "2012-06-04  28.620001  28.780001  28.320000  28.549999  23.261375  47926300\n",
              "2012-06-05  28.510000  28.750000  28.389999  28.510000  23.228781  45715400\n",
              "2012-06-06  28.879999  29.370001  28.809999  29.350000  23.913181  46860500\n",
              "2012-06-07  29.639999  29.700001  29.170000  29.230000  23.815409  37792800\n",
              "...               ...        ...        ...        ...        ...       ...\n",
              "2012-12-24  27.200001  27.250000  27.000000  27.059999  22.375801  20842400\n",
              "2012-12-26  27.030001  27.200001  26.700001  26.860001  22.210426  31631100\n",
              "2012-12-27  26.889999  27.090000  26.570000  26.959999  22.293114  39394000\n",
              "2012-12-28  26.709999  26.900000  26.549999  26.549999  21.954086  28239900\n",
              "2012-12-31  26.590000  26.770000  26.370001  26.709999  22.086393  42749500\n",
              "\n",
              "[146 rows x 6 columns]"
            ],
            "text/html": [
              "\n",
              "  <div id=\"df-f98b5af1-8929-42cc-abe2-f0154150e188\">\n",
              "    <div class=\"colab-df-container\">\n",
              "      <div>\n",
              "<style scoped>\n",
              "    .dataframe tbody tr th:only-of-type {\n",
              "        vertical-align: middle;\n",
              "    }\n",
              "\n",
              "    .dataframe tbody tr th {\n",
              "        vertical-align: top;\n",
              "    }\n",
              "\n",
              "    .dataframe thead th {\n",
              "        text-align: right;\n",
              "    }\n",
              "</style>\n",
              "<table border=\"1\" class=\"dataframe\">\n",
              "  <thead>\n",
              "    <tr style=\"text-align: right;\">\n",
              "      <th></th>\n",
              "      <th>Open</th>\n",
              "      <th>High</th>\n",
              "      <th>Low</th>\n",
              "      <th>Close</th>\n",
              "      <th>Adj Close</th>\n",
              "      <th>Volume</th>\n",
              "    </tr>\n",
              "    <tr>\n",
              "      <th>Date</th>\n",
              "      <th></th>\n",
              "      <th></th>\n",
              "      <th></th>\n",
              "      <th></th>\n",
              "      <th></th>\n",
              "      <th></th>\n",
              "    </tr>\n",
              "  </thead>\n",
              "  <tbody>\n",
              "    <tr>\n",
              "      <th>2012-06-01</th>\n",
              "      <td>28.760000</td>\n",
              "      <td>28.959999</td>\n",
              "      <td>28.440001</td>\n",
              "      <td>28.450001</td>\n",
              "      <td>23.179897</td>\n",
              "      <td>56634300</td>\n",
              "    </tr>\n",
              "    <tr>\n",
              "      <th>2012-06-04</th>\n",
              "      <td>28.620001</td>\n",
              "      <td>28.780001</td>\n",
              "      <td>28.320000</td>\n",
              "      <td>28.549999</td>\n",
              "      <td>23.261375</td>\n",
              "      <td>47926300</td>\n",
              "    </tr>\n",
              "    <tr>\n",
              "      <th>2012-06-05</th>\n",
              "      <td>28.510000</td>\n",
              "      <td>28.750000</td>\n",
              "      <td>28.389999</td>\n",
              "      <td>28.510000</td>\n",
              "      <td>23.228781</td>\n",
              "      <td>45715400</td>\n",
              "    </tr>\n",
              "    <tr>\n",
              "      <th>2012-06-06</th>\n",
              "      <td>28.879999</td>\n",
              "      <td>29.370001</td>\n",
              "      <td>28.809999</td>\n",
              "      <td>29.350000</td>\n",
              "      <td>23.913181</td>\n",
              "      <td>46860500</td>\n",
              "    </tr>\n",
              "    <tr>\n",
              "      <th>2012-06-07</th>\n",
              "      <td>29.639999</td>\n",
              "      <td>29.700001</td>\n",
              "      <td>29.170000</td>\n",
              "      <td>29.230000</td>\n",
              "      <td>23.815409</td>\n",
              "      <td>37792800</td>\n",
              "    </tr>\n",
              "    <tr>\n",
              "      <th>...</th>\n",
              "      <td>...</td>\n",
              "      <td>...</td>\n",
              "      <td>...</td>\n",
              "      <td>...</td>\n",
              "      <td>...</td>\n",
              "      <td>...</td>\n",
              "    </tr>\n",
              "    <tr>\n",
              "      <th>2012-12-24</th>\n",
              "      <td>27.200001</td>\n",
              "      <td>27.250000</td>\n",
              "      <td>27.000000</td>\n",
              "      <td>27.059999</td>\n",
              "      <td>22.375801</td>\n",
              "      <td>20842400</td>\n",
              "    </tr>\n",
              "    <tr>\n",
              "      <th>2012-12-26</th>\n",
              "      <td>27.030001</td>\n",
              "      <td>27.200001</td>\n",
              "      <td>26.700001</td>\n",
              "      <td>26.860001</td>\n",
              "      <td>22.210426</td>\n",
              "      <td>31631100</td>\n",
              "    </tr>\n",
              "    <tr>\n",
              "      <th>2012-12-27</th>\n",
              "      <td>26.889999</td>\n",
              "      <td>27.090000</td>\n",
              "      <td>26.570000</td>\n",
              "      <td>26.959999</td>\n",
              "      <td>22.293114</td>\n",
              "      <td>39394000</td>\n",
              "    </tr>\n",
              "    <tr>\n",
              "      <th>2012-12-28</th>\n",
              "      <td>26.709999</td>\n",
              "      <td>26.900000</td>\n",
              "      <td>26.549999</td>\n",
              "      <td>26.549999</td>\n",
              "      <td>21.954086</td>\n",
              "      <td>28239900</td>\n",
              "    </tr>\n",
              "    <tr>\n",
              "      <th>2012-12-31</th>\n",
              "      <td>26.590000</td>\n",
              "      <td>26.770000</td>\n",
              "      <td>26.370001</td>\n",
              "      <td>26.709999</td>\n",
              "      <td>22.086393</td>\n",
              "      <td>42749500</td>\n",
              "    </tr>\n",
              "  </tbody>\n",
              "</table>\n",
              "<p>146 rows × 6 columns</p>\n",
              "</div>\n",
              "      <button class=\"colab-df-convert\" onclick=\"convertToInteractive('df-f98b5af1-8929-42cc-abe2-f0154150e188')\"\n",
              "              title=\"Convert this dataframe to an interactive table.\"\n",
              "              style=\"display:none;\">\n",
              "        \n",
              "  <svg xmlns=\"http://www.w3.org/2000/svg\" height=\"24px\"viewBox=\"0 0 24 24\"\n",
              "       width=\"24px\">\n",
              "    <path d=\"M0 0h24v24H0V0z\" fill=\"none\"/>\n",
              "    <path d=\"M18.56 5.44l.94 2.06.94-2.06 2.06-.94-2.06-.94-.94-2.06-.94 2.06-2.06.94zm-11 1L8.5 8.5l.94-2.06 2.06-.94-2.06-.94L8.5 2.5l-.94 2.06-2.06.94zm10 10l.94 2.06.94-2.06 2.06-.94-2.06-.94-.94-2.06-.94 2.06-2.06.94z\"/><path d=\"M17.41 7.96l-1.37-1.37c-.4-.4-.92-.59-1.43-.59-.52 0-1.04.2-1.43.59L10.3 9.45l-7.72 7.72c-.78.78-.78 2.05 0 2.83L4 21.41c.39.39.9.59 1.41.59.51 0 1.02-.2 1.41-.59l7.78-7.78 2.81-2.81c.8-.78.8-2.07 0-2.86zM5.41 20L4 18.59l7.72-7.72 1.47 1.35L5.41 20z\"/>\n",
              "  </svg>\n",
              "      </button>\n",
              "      \n",
              "  <style>\n",
              "    .colab-df-container {\n",
              "      display:flex;\n",
              "      flex-wrap:wrap;\n",
              "      gap: 12px;\n",
              "    }\n",
              "\n",
              "    .colab-df-convert {\n",
              "      background-color: #E8F0FE;\n",
              "      border: none;\n",
              "      border-radius: 50%;\n",
              "      cursor: pointer;\n",
              "      display: none;\n",
              "      fill: #1967D2;\n",
              "      height: 32px;\n",
              "      padding: 0 0 0 0;\n",
              "      width: 32px;\n",
              "    }\n",
              "\n",
              "    .colab-df-convert:hover {\n",
              "      background-color: #E2EBFA;\n",
              "      box-shadow: 0px 1px 2px rgba(60, 64, 67, 0.3), 0px 1px 3px 1px rgba(60, 64, 67, 0.15);\n",
              "      fill: #174EA6;\n",
              "    }\n",
              "\n",
              "    [theme=dark] .colab-df-convert {\n",
              "      background-color: #3B4455;\n",
              "      fill: #D2E3FC;\n",
              "    }\n",
              "\n",
              "    [theme=dark] .colab-df-convert:hover {\n",
              "      background-color: #434B5C;\n",
              "      box-shadow: 0px 1px 3px 1px rgba(0, 0, 0, 0.15);\n",
              "      filter: drop-shadow(0px 1px 2px rgba(0, 0, 0, 0.3));\n",
              "      fill: #FFFFFF;\n",
              "    }\n",
              "  </style>\n",
              "\n",
              "      <script>\n",
              "        const buttonEl =\n",
              "          document.querySelector('#df-f98b5af1-8929-42cc-abe2-f0154150e188 button.colab-df-convert');\n",
              "        buttonEl.style.display =\n",
              "          google.colab.kernel.accessAllowed ? 'block' : 'none';\n",
              "\n",
              "        async function convertToInteractive(key) {\n",
              "          const element = document.querySelector('#df-f98b5af1-8929-42cc-abe2-f0154150e188');\n",
              "          const dataTable =\n",
              "            await google.colab.kernel.invokeFunction('convertToInteractive',\n",
              "                                                     [key], {});\n",
              "          if (!dataTable) return;\n",
              "\n",
              "          const docLinkHtml = 'Like what you see? Visit the ' +\n",
              "            '<a target=\"_blank\" href=https://colab.research.google.com/notebooks/data_table.ipynb>data table notebook</a>'\n",
              "            + ' to learn more about interactive tables.';\n",
              "          element.innerHTML = '';\n",
              "          dataTable['output_type'] = 'display_data';\n",
              "          await google.colab.output.renderOutput(dataTable, element);\n",
              "          const docLink = document.createElement('div');\n",
              "          docLink.innerHTML = docLinkHtml;\n",
              "          element.appendChild(docLink);\n",
              "        }\n",
              "      </script>\n",
              "    </div>\n",
              "  </div>\n",
              "  "
            ]
          },
          "metadata": {},
          "execution_count": 28
        }
      ]
    },
    {
      "cell_type": "code",
      "source": [
        "data3\n"
      ],
      "metadata": {
        "id": "SpzxaojCWCnD"
      },
      "execution_count": null,
      "outputs": []
    },
    {
      "cell_type": "code",
      "source": [
        "data4\n"
      ],
      "metadata": {
        "id": "A2fgYZ9gWCes"
      },
      "execution_count": null,
      "outputs": []
    },
    {
      "cell_type": "code",
      "source": [
        "data5\n"
      ],
      "metadata": {
        "id": "CDpM4zSQWCWI"
      },
      "execution_count": null,
      "outputs": []
    },
    {
      "cell_type": "code",
      "source": [
        "data6\n"
      ],
      "metadata": {
        "id": "2rew-zQuWCOR"
      },
      "execution_count": null,
      "outputs": []
    },
    {
      "cell_type": "code",
      "source": [
        "data7\n"
      ],
      "metadata": {
        "id": "mgHMoLSQWCGI"
      },
      "execution_count": null,
      "outputs": []
    },
    {
      "cell_type": "code",
      "source": [
        "data8\n"
      ],
      "metadata": {
        "id": "wLGHMrhMWB4t"
      },
      "execution_count": null,
      "outputs": []
    },
    {
      "cell_type": "code",
      "source": [
        "data9\n"
      ],
      "metadata": {
        "id": "GGJN0MJ_WB1E"
      },
      "execution_count": null,
      "outputs": []
    },
    {
      "cell_type": "code",
      "source": [
        "data10"
      ],
      "metadata": {
        "id": "oOe_xzpnWBjN"
      },
      "execution_count": null,
      "outputs": []
    },
    {
      "cell_type": "markdown",
      "source": [
        "## **14 estadistica de datos reales**"
      ],
      "metadata": {
        "id": "8gHDbqVEWNEV"
      }
    },
    {
      "cell_type": "code",
      "source": [
        "np.std(data1)\n"
      ],
      "metadata": {
        "colab": {
          "base_uri": "https://localhost:8080/"
        },
        "id": "Dh0qUAjOXNXo",
        "outputId": "30b46659-5a80-4697-d4cd-801174d12c3b"
      },
      "execution_count": null,
      "outputs": [
        {
          "output_type": "execute_result",
          "data": {
            "text/plain": [
              "Open         1.488071e+00\n",
              "High         1.445917e+00\n",
              "Low          1.473768e+00\n",
              "Close        1.436274e+00\n",
              "Adj Close    1.197275e+00\n",
              "Volume       1.850600e+07\n",
              "dtype: float64"
            ]
          },
          "metadata": {},
          "execution_count": 24
        }
      ]
    },
    {
      "cell_type": "code",
      "source": [
        "np.std(data2)\n"
      ],
      "metadata": {
        "colab": {
          "base_uri": "https://localhost:8080/"
        },
        "id": "sJy5TjRVXe0G",
        "outputId": "2413b350-79ae-465a-f00e-261ac5a6dc68"
      },
      "execution_count": null,
      "outputs": [
        {
          "output_type": "execute_result",
          "data": {
            "text/plain": [
              "Open         1.404513e+00\n",
              "High         1.409042e+00\n",
              "Low          1.402385e+00\n",
              "Close        1.428911e+00\n",
              "Adj Close    1.088980e+00\n",
              "Volume       1.675761e+07\n",
              "dtype: float64"
            ]
          },
          "metadata": {},
          "execution_count": 29
        }
      ]
    },
    {
      "cell_type": "code",
      "source": [
        "np.std(data3)\n"
      ],
      "metadata": {
        "id": "siMxt6HyXerc"
      },
      "execution_count": null,
      "outputs": []
    },
    {
      "cell_type": "code",
      "source": [
        "np.std(data4)\n"
      ],
      "metadata": {
        "id": "VQUdFnVlXeh-"
      },
      "execution_count": null,
      "outputs": []
    },
    {
      "cell_type": "code",
      "source": [
        "np.std(data5)\n"
      ],
      "metadata": {
        "id": "TALaq8HJXeYw"
      },
      "execution_count": null,
      "outputs": []
    },
    {
      "cell_type": "code",
      "source": [
        "np.std(data6)\n"
      ],
      "metadata": {
        "id": "z1UWEFRQXeP2"
      },
      "execution_count": null,
      "outputs": []
    },
    {
      "cell_type": "code",
      "source": [
        "np.std(data7)\n"
      ],
      "metadata": {
        "id": "kK-8HRjNXeHa"
      },
      "execution_count": null,
      "outputs": []
    },
    {
      "cell_type": "code",
      "source": [
        "np.std(data8)\n"
      ],
      "metadata": {
        "id": "pYBGlDt8Xd-q"
      },
      "execution_count": null,
      "outputs": []
    },
    {
      "cell_type": "code",
      "source": [
        "np.std(data9)\n"
      ],
      "metadata": {
        "id": "KYdF2HUkXd2z"
      },
      "execution_count": null,
      "outputs": []
    },
    {
      "cell_type": "code",
      "source": [
        "np.std(data10)"
      ],
      "metadata": {
        "id": "BwrpIR3lXdud"
      },
      "execution_count": null,
      "outputs": []
    },
    {
      "cell_type": "markdown",
      "source": [
        "## **15 marco de datos de pandas**"
      ],
      "metadata": {
        "id": "vbc47mTSYHZi"
      }
    },
    {
      "cell_type": "code",
      "source": [
        "X1 = data1['Close']\n",
        "\n"
      ],
      "metadata": {
        "id": "9-p86274Yhx5"
      },
      "execution_count": null,
      "outputs": []
    },
    {
      "cell_type": "code",
      "source": [
        "X2 = data2['Close']\n"
      ],
      "metadata": {
        "id": "6VqaUQcvdAP_"
      },
      "execution_count": null,
      "outputs": []
    },
    {
      "cell_type": "code",
      "source": [
        "X3 = data3['Close']\n"
      ],
      "metadata": {
        "id": "zMuI8J7edAHl"
      },
      "execution_count": null,
      "outputs": []
    },
    {
      "cell_type": "code",
      "source": [
        "X4 = data4['Close']\n"
      ],
      "metadata": {
        "id": "tpa075IQc_-t"
      },
      "execution_count": null,
      "outputs": []
    },
    {
      "cell_type": "code",
      "source": [
        "X5 = data5['Close']\n"
      ],
      "metadata": {
        "id": "f8E3qClMc_1X"
      },
      "execution_count": null,
      "outputs": []
    },
    {
      "cell_type": "code",
      "source": [
        "X6 = data6['Close']\n"
      ],
      "metadata": {
        "id": "s-Qke3cGc_sj"
      },
      "execution_count": null,
      "outputs": []
    },
    {
      "cell_type": "code",
      "source": [
        "X7 = data7['Close']\n"
      ],
      "metadata": {
        "id": "X3X5b96Hc_i9"
      },
      "execution_count": null,
      "outputs": []
    },
    {
      "cell_type": "code",
      "source": [
        "X8 = data8['Close']\n"
      ],
      "metadata": {
        "id": "U2cVu6Zkc_bS"
      },
      "execution_count": null,
      "outputs": []
    },
    {
      "cell_type": "code",
      "source": [
        "X9 = data9['Close']\n"
      ],
      "metadata": {
        "id": "IkWBTHQ6c_TH"
      },
      "execution_count": null,
      "outputs": []
    },
    {
      "cell_type": "code",
      "source": [
        "X10 = data10['Close']"
      ],
      "metadata": {
        "id": "kFRDMxq_c_LP"
      },
      "execution_count": null,
      "outputs": []
    },
    {
      "cell_type": "markdown",
      "source": [
        "## **16 Obtener devoluciones de precios**"
      ],
      "metadata": {
        "id": "d713K894cN2p"
      }
    },
    {
      "cell_type": "code",
      "source": [
        "R1 = X1.pct_change()[1:]\n"
      ],
      "metadata": {
        "id": "bdzPywQ7YjBd"
      },
      "execution_count": null,
      "outputs": []
    },
    {
      "cell_type": "code",
      "source": [
        "R2 = X2.pct_change()[1:]\n"
      ],
      "metadata": {
        "id": "o2NfbJ10deXY"
      },
      "execution_count": null,
      "outputs": []
    },
    {
      "cell_type": "code",
      "source": [
        "R3 = X3.pct_change()[1:]\n"
      ],
      "metadata": {
        "id": "cfL5SfDkdeOQ"
      },
      "execution_count": null,
      "outputs": []
    },
    {
      "cell_type": "code",
      "source": [
        "R4 = X4.pct_change()[1:]\n"
      ],
      "metadata": {
        "id": "pbvDmoosdeFY"
      },
      "execution_count": null,
      "outputs": []
    },
    {
      "cell_type": "code",
      "source": [
        "R5 = X5.pct_change()[1:]\n"
      ],
      "metadata": {
        "id": "pJqS-Kpqdd8T"
      },
      "execution_count": null,
      "outputs": []
    },
    {
      "cell_type": "code",
      "source": [
        "R6 = X6.pct_change()[1:]\n"
      ],
      "metadata": {
        "id": "ERfvJpz6ddpa"
      },
      "execution_count": null,
      "outputs": []
    },
    {
      "cell_type": "code",
      "source": [
        "R7 = X7.pct_change()[1:]\n"
      ],
      "metadata": {
        "id": "bZvqPLC7ddfj"
      },
      "execution_count": null,
      "outputs": []
    },
    {
      "cell_type": "code",
      "source": [
        "R8 = X8.pct_change()[1:]\n"
      ],
      "metadata": {
        "id": "19JNgLBEddXk"
      },
      "execution_count": null,
      "outputs": []
    },
    {
      "cell_type": "code",
      "source": [
        "R9 = X9.pct_change()[1:]\n"
      ],
      "metadata": {
        "id": "qOrP4_ozddL-"
      },
      "execution_count": null,
      "outputs": []
    },
    {
      "cell_type": "code",
      "source": [
        "R10 = X10.pct_change()[1:]"
      ],
      "metadata": {
        "id": "lI-oohrTdqic"
      },
      "execution_count": null,
      "outputs": []
    },
    {
      "cell_type": "markdown",
      "source": [
        "## **17 graficar precios**"
      ],
      "metadata": {
        "id": "kBpZy4kMdxzf"
      }
    },
    {
      "cell_type": "code",
      "source": [
        "plt.plot(X1.index, X1.values)\n",
        "plt.ylabel('Price')\n",
        "plt.legend(['MSFT']);"
      ],
      "metadata": {
        "colab": {
          "base_uri": "https://localhost:8080/",
          "height": 265
        },
        "id": "SU64k7vrYqWO",
        "outputId": "17dcb716-c1ce-44d6-af0e-56f946ed1f9f"
      },
      "execution_count": null,
      "outputs": [
        {
          "output_type": "display_data",
          "data": {
            "text/plain": [
              "<Figure size 432x288 with 1 Axes>"
            ],
            "image/png": "[encoded data removed]"
          },
          "metadata": {
            "needs_background": "light"
          }
        }
      ]
    },
    {
      "cell_type": "code",
      "source": [
        "plt.plot(X2.index, X2.values)\n",
        "plt.ylabel('Price')\n",
        "plt.legend(['MSFT']);"
      ],
      "metadata": {
        "colab": {
          "base_uri": "https://localhost:8080/",
          "height": 265
        },
        "id": "z6BUCntFYsze",
        "outputId": "88c2e915-11e9-4668-d21f-fe7818699274"
      },
      "execution_count": null,
      "outputs": [
        {
          "output_type": "display_data",
          "data": {
            "text/plain": [
              "<Figure size 432x288 with 1 Axes>"
            ],
            "image/png": "[encoded data removed]"
          },
          "metadata": {
            "needs_background": "light"
          }
        }
      ]
    },
    {
      "cell_type": "code",
      "source": [
        "plt.plot(X3.index, X3.values)\n",
        "plt.ylabel('Price')\n",
        "plt.legend(['MSFT']);\n"
      ],
      "metadata": {
        "id": "WKYtm4udd93c"
      },
      "execution_count": null,
      "outputs": []
    },
    {
      "cell_type": "code",
      "source": [
        "plt.plot(X4.index, X4.values)\n",
        "plt.ylabel('Price')\n",
        "plt.legend(['MSFT']);\n"
      ],
      "metadata": {
        "id": "U02-oVUQeqAS"
      },
      "execution_count": null,
      "outputs": []
    },
    {
      "cell_type": "code",
      "source": [
        "plt.plot(X5.index, X5.values)\n",
        "plt.ylabel('Price')\n",
        "plt.legend(['MSFT']);\n"
      ],
      "metadata": {
        "id": "BANVydNFep3U"
      },
      "execution_count": null,
      "outputs": []
    },
    {
      "cell_type": "code",
      "source": [
        "plt.plot(X6.index, X6.values)\n",
        "plt.ylabel('Price')\n",
        "plt.legend(['MSFT']);\n"
      ],
      "metadata": {
        "id": "po3G6ZjIepuI"
      },
      "execution_count": null,
      "outputs": []
    },
    {
      "cell_type": "code",
      "source": [
        "plt.plot(X7.index, X7.values)\n",
        "plt.ylabel('Price')\n",
        "plt.legend(['MSFT']);\n"
      ],
      "metadata": {
        "id": "jRV_8N4Vepk3"
      },
      "execution_count": null,
      "outputs": []
    },
    {
      "cell_type": "code",
      "source": [
        "plt.plot(X8.index, X8.values)\n",
        "plt.ylabel('Price')\n",
        "plt.legend(['MSFT']);\n"
      ],
      "metadata": {
        "id": "pSfQEc-tepbM"
      },
      "execution_count": null,
      "outputs": []
    },
    {
      "cell_type": "code",
      "source": [
        "plt.plot(X9.index, X9.values)\n",
        "plt.ylabel('Price')\n",
        "plt.legend(['MSFT']);\n"
      ],
      "metadata": {
        "id": "s-NT8yWdepQg"
      },
      "execution_count": null,
      "outputs": []
    },
    {
      "cell_type": "code",
      "source": [
        "plt.plot(X10.index, X10.values)\n",
        "plt.ylabel('Price')\n",
        "plt.legend(['MSFT']);"
      ],
      "metadata": {
        "id": "zByxk17nepGj"
      },
      "execution_count": null,
      "outputs": []
    },
    {
      "cell_type": "markdown",
      "source": [
        "## **18 histograma**"
      ],
      "metadata": {
        "id": "dPo_XGLoe0Ss"
      }
    },
    {
      "cell_type": "code",
      "source": [
        "plt.hist(R1, bins=20)\n",
        "plt.xlabel('Return')\n",
        "plt.ylabel('Frequency')\n",
        "plt.legend(['MSFT Returns']);"
      ],
      "metadata": {
        "colab": {
          "base_uri": "https://localhost:8080/",
          "height": 279
        },
        "id": "0w5PjYP_e1u6",
        "outputId": "5370e0c0-82e9-460f-e486-237328b7244a"
      },
      "execution_count": null,
      "outputs": [
        {
          "output_type": "display_data",
          "data": {
            "text/plain": [
              "<Figure size 432x288 with 1 Axes>"
            ],
            "image/png": "[encoded data removed]"
          },
          "metadata": {
            "needs_background": "light"
          }
        }
      ]
    },
    {
      "cell_type": "code",
      "source": [
        "plt.hist(R2, bins=20)\n",
        "plt.xlabel('Return')\n",
        "plt.ylabel('Frequency')\n",
        "plt.legend(['MSFT Returns']);\n"
      ],
      "metadata": {
        "colab": {
          "base_uri": "https://localhost:8080/",
          "height": 279
        },
        "id": "ltzUBvmcfqKZ",
        "outputId": "ce334c2f-1028-4736-8f79-68eba65b14a9"
      },
      "execution_count": null,
      "outputs": [
        {
          "output_type": "display_data",
          "data": {
            "text/plain": [
              "<Figure size 432x288 with 1 Axes>"
            ],
            "image/png": "[encoded data removed]"
          },
          "metadata": {
            "needs_background": "light"
          }
        }
      ]
    },
    {
      "cell_type": "code",
      "source": [
        "plt.hist(R3, bins=20)\n",
        "plt.xlabel('Return')\n",
        "plt.ylabel('Frequency')\n",
        "plt.legend(['MSFT Returns']);\n"
      ],
      "metadata": {
        "id": "ODUm8JRlf5Nm"
      },
      "execution_count": null,
      "outputs": []
    },
    {
      "cell_type": "code",
      "source": [
        "plt.hist(R4, bins=20)\n",
        "plt.xlabel('Return')\n",
        "plt.ylabel('Frequency')\n",
        "plt.legend(['MSFT Returns']);\n"
      ],
      "metadata": {
        "id": "MN0uNsLJf5DV"
      },
      "execution_count": null,
      "outputs": []
    },
    {
      "cell_type": "code",
      "source": [
        "plt.hist(R5, bins=20)\n",
        "plt.xlabel('Return')\n",
        "plt.ylabel('Frequency')\n",
        "plt.legend(['MSFT Returns']);\n"
      ],
      "metadata": {
        "id": "By4B4eUsf45l"
      },
      "execution_count": null,
      "outputs": []
    },
    {
      "cell_type": "code",
      "source": [
        "plt.hist(R6, bins=20)\n",
        "plt.xlabel('Return')\n",
        "plt.ylabel('Frequency')\n",
        "plt.legend(['MSFT Returns']);\n"
      ],
      "metadata": {
        "id": "XmXV2t_rf4xE"
      },
      "execution_count": null,
      "outputs": []
    },
    {
      "cell_type": "code",
      "source": [
        "plt.hist(R7, bins=20)\n",
        "plt.xlabel('Return')\n",
        "plt.ylabel('Frequency')\n",
        "plt.legend(['MSFT Returns']);\n"
      ],
      "metadata": {
        "id": "vEgf6quaf4nb"
      },
      "execution_count": null,
      "outputs": []
    },
    {
      "cell_type": "code",
      "source": [
        "plt.hist(R8, bins=20)\n",
        "plt.xlabel('Return')\n",
        "plt.ylabel('Frequency')\n",
        "plt.legend(['MSFT Returns']);\n"
      ],
      "metadata": {
        "id": "zqRS9KAJf4fb"
      },
      "execution_count": null,
      "outputs": []
    },
    {
      "cell_type": "code",
      "source": [
        "plt.hist(R9, bins=20)\n",
        "plt.xlabel('Return')\n",
        "plt.ylabel('Frequency')\n",
        "plt.legend(['MSFT Returns']);\n"
      ],
      "metadata": {
        "id": "0lFL4Kmef4W7"
      },
      "execution_count": null,
      "outputs": []
    },
    {
      "cell_type": "code",
      "source": [
        "plt.hist(R10, bins=20)\n",
        "plt.xlabel('Return')\n",
        "plt.ylabel('Frequency')\n",
        "plt.legend(['MSFT Returns']);"
      ],
      "metadata": {
        "id": "WGuPRfTzf4OM"
      },
      "execution_count": null,
      "outputs": []
    },
    {
      "cell_type": "markdown",
      "source": [
        "## **19 Obtener estadísticas de nuevo**"
      ],
      "metadata": {
        "id": "_cxCNC1kgKV3"
      }
    },
    {
      "cell_type": "code",
      "source": [
        "np.std(R1)\n"
      ],
      "metadata": {
        "id": "bFp_tgC1gJ6E"
      },
      "execution_count": null,
      "outputs": []
    },
    {
      "cell_type": "code",
      "source": [
        "np.std(R2)\n"
      ],
      "metadata": {
        "id": "LIqfP54Zgz3D"
      },
      "execution_count": null,
      "outputs": []
    },
    {
      "cell_type": "code",
      "source": [
        "np.std(R3)\n"
      ],
      "metadata": {
        "id": "qmwB2JregzuE"
      },
      "execution_count": null,
      "outputs": []
    },
    {
      "cell_type": "code",
      "source": [
        "np.std(R4)\n"
      ],
      "metadata": {
        "id": "z2gMqYdogzlm"
      },
      "execution_count": null,
      "outputs": []
    },
    {
      "cell_type": "code",
      "source": [
        "np.std(R5)\n"
      ],
      "metadata": {
        "id": "ceZLRvQSgzc3"
      },
      "execution_count": null,
      "outputs": []
    },
    {
      "cell_type": "code",
      "source": [
        "np.std(R6)\n"
      ],
      "metadata": {
        "colab": {
          "base_uri": "https://localhost:8080/",
          "height": 235
        },
        "id": "kPQ_0TSdgzTW",
        "outputId": "eea8e28d-0150-4dbf-e5c5-e688e2ab0f75"
      },
      "execution_count": null,
      "outputs": [
        {
          "output_type": "error",
          "ename": "NameError",
          "evalue": "ignored",
          "traceback": [
            "\u001b[0;31m---------------------------------------------------------------------------\u001b[0m",
            "\u001b[0;31mNameError\u001b[0m                                 Traceback (most recent call last)",
            "\u001b[0;32m<ipython-input-48-8333b1a592e8>\u001b[0m in \u001b[0;36m<module>\u001b[0;34m\u001b[0m\n\u001b[0;32m----> 1\u001b[0;31m \u001b[0mnp\u001b[0m\u001b[0;34m.\u001b[0m\u001b[0mstd\u001b[0m\u001b[0;34m(\u001b[0m\u001b[0mR6\u001b[0m\u001b[0;34m)\u001b[0m\u001b[0;34m\u001b[0m\u001b[0;34m\u001b[0m\u001b[0m\n\u001b[0m\u001b[1;32m      2\u001b[0m \u001b[0mnp\u001b[0m\u001b[0;34m.\u001b[0m\u001b[0mstd\u001b[0m\u001b[0;34m(\u001b[0m\u001b[0mR7\u001b[0m\u001b[0;34m)\u001b[0m\u001b[0;34m\u001b[0m\u001b[0;34m\u001b[0m\u001b[0m\n\u001b[1;32m      3\u001b[0m \u001b[0mnp\u001b[0m\u001b[0;34m.\u001b[0m\u001b[0mstd\u001b[0m\u001b[0;34m(\u001b[0m\u001b[0mR8\u001b[0m\u001b[0;34m)\u001b[0m\u001b[0;34m\u001b[0m\u001b[0;34m\u001b[0m\u001b[0m\n\u001b[1;32m      4\u001b[0m \u001b[0mnp\u001b[0m\u001b[0;34m.\u001b[0m\u001b[0mstd\u001b[0m\u001b[0;34m(\u001b[0m\u001b[0mR9\u001b[0m\u001b[0;34m)\u001b[0m\u001b[0;34m\u001b[0m\u001b[0;34m\u001b[0m\u001b[0m\n\u001b[1;32m      5\u001b[0m \u001b[0mnp\u001b[0m\u001b[0;34m.\u001b[0m\u001b[0mstd\u001b[0m\u001b[0;34m(\u001b[0m\u001b[0mR10\u001b[0m\u001b[0;34m)\u001b[0m\u001b[0;34m\u001b[0m\u001b[0;34m\u001b[0m\u001b[0m\n",
            "\u001b[0;31mNameError\u001b[0m: name 'R6' is not defined"
          ]
        }
      ]
    },
    {
      "cell_type": "code",
      "source": [
        "np.std(R7)\n"
      ],
      "metadata": {
        "id": "zstVn2aRgzLN"
      },
      "execution_count": null,
      "outputs": []
    },
    {
      "cell_type": "code",
      "source": [
        "np.std(R8)\n"
      ],
      "metadata": {
        "id": "U9p_Fm0mgzDc"
      },
      "execution_count": null,
      "outputs": []
    },
    {
      "cell_type": "code",
      "source": [
        "np.std(R9)\n"
      ],
      "metadata": {
        "id": "DvUwg9V8gy67"
      },
      "execution_count": null,
      "outputs": []
    },
    {
      "cell_type": "code",
      "source": [
        "np.std(R10)"
      ],
      "metadata": {
        "id": "nlLVvVN4gyx3"
      },
      "execution_count": null,
      "outputs": []
    },
    {
      "cell_type": "markdown",
      "source": [
        "## **20 Generación de una media móvil**"
      ],
      "metadata": {
        "id": "W4NYZJbrg9eF"
      }
    },
    {
      "cell_type": "code",
      "source": [
        "MAVG = X1.rolling(2).mean()\n",
        "plt.plot(X1.index, X1.values)\n",
        "plt.plot(MAVG.index, MAVG.values)\n",
        "plt.ylabel('Price')\n",
        "plt.legend(['MSFT', '60-day MAVG']);"
      ],
      "metadata": {
        "colab": {
          "base_uri": "https://localhost:8080/",
          "height": 265
        },
        "id": "EhWrWhtsg-pI",
        "outputId": "b0092217-15a1-4627-d288-5c2e6a631121"
      },
      "execution_count": null,
      "outputs": [
        {
          "output_type": "display_data",
          "data": {
            "text/plain": [
              "<Figure size 432x288 with 1 Axes>"
            ],
            "image/png": "[encoded data removed]"
          },
          "metadata": {
            "needs_background": "light"
          }
        }
      ]
    },
    {
      "cell_type": "code",
      "source": [
        "MAVG = X2.rolling(2).mean()\n",
        "plt.plot(X2.index, X2.values)\n",
        "plt.plot(MAVG.index, MAVG.values)\n",
        "plt.ylabel('Price')\n",
        "plt.legend(['MSFT', '60-day MAVG']);\n"
      ],
      "metadata": {
        "colab": {
          "base_uri": "https://localhost:8080/",
          "height": 265
        },
        "id": "PR0Oco6TiNKR",
        "outputId": "b4550416-bec8-49b5-ca8d-5b76014d611d"
      },
      "execution_count": null,
      "outputs": [
        {
          "output_type": "display_data",
          "data": {
            "text/plain": [
              "<Figure size 432x288 with 1 Axes>"
            ],
            "image/png": "[encoded data removed]"
          },
          "metadata": {
            "needs_background": "light"
          }
        }
      ]
    },
    {
      "cell_type": "code",
      "source": [
        "MAVG = X3.rolling(2).mean()\n",
        "plt.plot(X3.index, X3.values)\n",
        "plt.plot(MAVG.index, MAVG.values)\n",
        "plt.ylabel('Price')\n",
        "plt.legend(['MSFT', '60-day MAVG']);\n"
      ],
      "metadata": {
        "id": "qvWgnTAIiNAs"
      },
      "execution_count": null,
      "outputs": []
    },
    {
      "cell_type": "code",
      "source": [
        "MAVG = X4.rolling(2).mean()\n",
        "plt.plot(X4.index, X4.values)\n",
        "plt.plot(MAVG.index, MAVG.values)\n",
        "plt.ylabel('Price')\n",
        "plt.legend(['MSFT', '60-day MAVG']);\n"
      ],
      "metadata": {
        "id": "swZHAre8iM3w"
      },
      "execution_count": null,
      "outputs": []
    },
    {
      "cell_type": "code",
      "source": [
        "MAVG = X5.rolling(2).mean()\n",
        "plt.plot(X5.index, X5.values)\n",
        "plt.plot(MAVG.index, MAVG.values)\n",
        "plt.ylabel('Price')\n",
        "plt.legend(['MSFT', '60-day MAVG']);\n"
      ],
      "metadata": {
        "id": "KQoxxozjiMuD"
      },
      "execution_count": null,
      "outputs": []
    },
    {
      "cell_type": "code",
      "source": [
        "MAVG = X6.rolling(2).mean()\n",
        "plt.plot(X6.index, X6.values)\n",
        "plt.plot(MAVG.index, MAVG.values)\n",
        "plt.ylabel('Price')\n",
        "plt.legend(['MSFT', '60-day MAVG']);\n"
      ],
      "metadata": {
        "id": "FCOa1xc3iMkp"
      },
      "execution_count": null,
      "outputs": []
    },
    {
      "cell_type": "code",
      "source": [
        "MAVG = X7.rolling(2).mean()\n",
        "plt.plot(X7.index, X7.values)\n",
        "plt.plot(MAVG.index, MAVG.values)\n",
        "plt.ylabel('Price')\n",
        "plt.legend(['MSFT', '60-day MAVG']);\n"
      ],
      "metadata": {
        "id": "2J3HUCGPiMbJ"
      },
      "execution_count": null,
      "outputs": []
    },
    {
      "cell_type": "code",
      "source": [
        "MAVG = X8.rolling(2).mean()\n",
        "plt.plot(X8.index, X8.values)\n",
        "plt.plot(MAVG.index, MAVG.values)\n",
        "plt.ylabel('Price')\n",
        "plt.legend(['MSFT', '60-day MAVG']);\n"
      ],
      "metadata": {
        "id": "IamMwslxiMSj"
      },
      "execution_count": null,
      "outputs": []
    },
    {
      "cell_type": "code",
      "source": [
        "MAVG = X9.rolling(2).mean()\n",
        "plt.plot(X9.index, X9.values)\n",
        "plt.plot(MAVG.index, MAVG.values)\n",
        "plt.ylabel('Price')\n",
        "plt.legend(['MSFT', '60-day MAVG']);\n"
      ],
      "metadata": {
        "id": "bbN5HReRiMJV"
      },
      "execution_count": null,
      "outputs": []
    },
    {
      "cell_type": "code",
      "source": [
        "MAVG = X10.rolling(2).mean()\n",
        "plt.plot(X10.index, X10.values)\n",
        "plt.plot(MAVG.index, MAVG.values)\n",
        "plt.ylabel('Price')\n",
        "plt.legend(['MSFT', '60-day MAVG']);"
      ],
      "metadata": {
        "id": "irMWc7BviLil"
      },
      "execution_count": null,
      "outputs": []
    }
  ]
}